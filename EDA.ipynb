{
  "nbformat": 4,
  "nbformat_minor": 0,
  "metadata": {
    "colab": {
      "name": "EDA&시각화_과제.ipynb의 사본",
      "provenance": [],
      "collapsed_sections": []
    },
    "kernelspec": {
      "display_name": "Python 3",
      "language": "python",
      "name": "python3"
    },
    "language_info": {
      "codemirror_mode": {
        "name": "ipython",
        "version": 3
      },
      "file_extension": ".py",
      "mimetype": "text/x-python",
      "name": "python",
      "nbconvert_exporter": "python",
      "pygments_lexer": "ipython3",
      "version": "3.8.10"
    }
  },
  "cells": [
    {
      "cell_type": "markdown",
      "metadata": {
        "id": "x0yoa3uTfcoz"
      },
      "source": [
        "# EDA 과제 \n",
        "#### <font color='orange'> - 약간 매운맛"
      ]
    },
    {
      "cell_type": "markdown",
      "metadata": {
        "id": "PfuUHX59fco0"
      },
      "source": [
        "by YBIGTA 16기 DA Team 김지환"
      ]
    },
    {
      "cell_type": "markdown",
      "metadata": {
        "id": "vfK2PJbOfco1"
      },
      "source": [
        "<img src='https://i.imgur.com/cqdVyfs.jpg'>\n",
        "\n",
        "\n",
        "---\n",
        "여러분은 Airbnb 런던 지사의 데이터 분석가입니다.\n",
        "\n",
        "이번에 호스트들에게 적정한 방 가격을 책정해주는 프로젝트를 진행할 예정입니다.\n",
        "\n",
        "이를 위해 기존에 런던에 있던 Airbnb 방 데이터를 분석할 것입니다.\n",
        "\n",
        "각 문제에 대해 적절한 코드 혹은 답변을 제시해보세요.\n",
        "\n",
        "---"
      ]
    },
    {
      "cell_type": "code",
      "metadata": {
        "id": "tROG2Acf2eKM"
      },
      "source": [
        "import pandas as pd\n",
        "import numpy as np\n",
        "import matplotlib.pyplot as plt\n",
        "%matplotlib inline\n",
        "# notebook을 실행한 브라우저에서 바로 그림을 볼 수 있게 해주는 코드. 버전에 따라 필요 없을 수도 있습니다.\n",
        "import seaborn as sns"
      ],
      "execution_count": 2,
      "outputs": []
    },
    {
      "cell_type": "code",
      "source": [
        "from google.colab import drive\n",
        "drive.mount('/content/drive')"
      ],
      "metadata": {
        "colab": {
          "base_uri": "https://localhost:8080/"
        },
        "id": "s60_fY9xdMQw",
        "outputId": "691a6d3a-a0bd-4585-f3c5-1a56e66a3804"
      },
      "execution_count": 4,
      "outputs": [
        {
          "output_type": "stream",
          "name": "stdout",
          "text": [
            "Mounted at /content/drive\n"
          ]
        }
      ]
    },
    {
      "cell_type": "code",
      "source": [
        "cd /content/drive/MyDrive"
      ],
      "metadata": {
        "colab": {
          "base_uri": "https://localhost:8080/"
        },
        "id": "5WvCiLM5JFnL",
        "outputId": "df696e50-2536-4817-8b26-3410295456e6"
      },
      "execution_count": 8,
      "outputs": [
        {
          "output_type": "stream",
          "name": "stdout",
          "text": [
            "/content/drive/MyDrive\n"
          ]
        }
      ]
    },
    {
      "cell_type": "code",
      "metadata": {
        "id": "Ay_oqYuW2eKP",
        "outputId": "1ce2e2db-7076-4571-eda0-5df25f877468",
        "colab": {
          "base_uri": "https://localhost:8080/"
        }
      },
      "source": [
        "df = pd.read_csv('airbnb_listings.csv', index_col=0)"
      ],
      "execution_count": 9,
      "outputs": [
        {
          "output_type": "stream",
          "name": "stderr",
          "text": [
            "/usr/local/lib/python3.7/dist-packages/IPython/core/interactiveshell.py:2718: DtypeWarning: Columns (25,26,47) have mixed types.Specify dtype option on import or set low_memory=False.\n",
            "  interactivity=interactivity, compiler=compiler, result=result)\n"
          ]
        }
      ]
    },
    {
      "cell_type": "markdown",
      "metadata": {
        "id": "PJLnjOfZfco8"
      },
      "source": [
        "# EDA"
      ]
    },
    {
      "cell_type": "markdown",
      "metadata": {
        "id": "W4Bydfl-fco9"
      },
      "source": [
        "### 1) 전체 데이터 확인"
      ]
    },
    {
      "cell_type": "markdown",
      "metadata": {
        "id": "E3dSDYVGfco9"
      },
      "source": [
        "- #### <font color='orange'> Q1. 상위 5개의 데이터를 확인해보세요. 컬럼 수가 많으니 모든 컬럼을 표시하도록 조정하세요. </font>"
      ]
    },
    {
      "cell_type": "code",
      "metadata": {
        "id": "13sbz1b62eKT",
        "outputId": "e223d15a-1428-43a4-d471-77473702c0f0",
        "colab": {
          "base_uri": "https://localhost:8080/",
          "height": 409
        }
      },
      "source": [
        "# Q1\n",
        "df.head()"
      ],
      "execution_count": 7,
      "outputs": [
        {
          "output_type": "execute_result",
          "data": {
            "text/html": [
              "\n",
              "  <div id=\"df-bb4c27a8-e531-4071-b771-a569b74285f9\">\n",
              "    <div class=\"colab-df-container\">\n",
              "      <div>\n",
              "<style scoped>\n",
              "    .dataframe tbody tr th:only-of-type {\n",
              "        vertical-align: middle;\n",
              "    }\n",
              "\n",
              "    .dataframe tbody tr th {\n",
              "        vertical-align: top;\n",
              "    }\n",
              "\n",
              "    .dataframe thead th {\n",
              "        text-align: right;\n",
              "    }\n",
              "</style>\n",
              "<table border=\"1\" class=\"dataframe\">\n",
              "  <thead>\n",
              "    <tr style=\"text-align: right;\">\n",
              "      <th></th>\n",
              "      <th>id</th>\n",
              "      <th>host_response_time</th>\n",
              "      <th>host_response_rate</th>\n",
              "      <th>host_acceptance_rate</th>\n",
              "      <th>host_is_superhost</th>\n",
              "      <th>host_listings_count</th>\n",
              "      <th>host_total_listings_count</th>\n",
              "      <th>host_verifications</th>\n",
              "      <th>host_has_profile_pic</th>\n",
              "      <th>host_identity_verified</th>\n",
              "      <th>neighborhood</th>\n",
              "      <th>latitude</th>\n",
              "      <th>longitude</th>\n",
              "      <th>is_location_exact</th>\n",
              "      <th>property_type</th>\n",
              "      <th>room_type</th>\n",
              "      <th>accommodates</th>\n",
              "      <th>bathrooms</th>\n",
              "      <th>bedrooms</th>\n",
              "      <th>beds</th>\n",
              "      <th>bed_type</th>\n",
              "      <th>amenities</th>\n",
              "      <th>square_feet</th>\n",
              "      <th>price</th>\n",
              "      <th>weekly_price</th>\n",
              "      <th>monthly_price</th>\n",
              "      <th>security_deposit</th>\n",
              "      <th>guests_included</th>\n",
              "      <th>extra_people</th>\n",
              "      <th>minimum_nights</th>\n",
              "      <th>maximum_nights</th>\n",
              "      <th>has_availability</th>\n",
              "      <th>availability_30</th>\n",
              "      <th>availability_60</th>\n",
              "      <th>availability_90</th>\n",
              "      <th>availability_365</th>\n",
              "      <th>number_of_reviews</th>\n",
              "      <th>number_of_reviews_ltm</th>\n",
              "      <th>review_scores_rating</th>\n",
              "      <th>review_scores_accuracy</th>\n",
              "      <th>review_scores_cleanliness</th>\n",
              "      <th>review_scores_checkin</th>\n",
              "      <th>review_scores_communication</th>\n",
              "      <th>review_scores_location</th>\n",
              "      <th>review_scores_value</th>\n",
              "      <th>requires_license</th>\n",
              "      <th>license</th>\n",
              "      <th>jurisdiction_names</th>\n",
              "      <th>instant_bookable</th>\n",
              "      <th>is_business_travel_ready</th>\n",
              "      <th>cancellation_policy</th>\n",
              "      <th>require_guest_profile_picture</th>\n",
              "      <th>require_guest_phone_verification</th>\n",
              "      <th>reviews_per_month</th>\n",
              "    </tr>\n",
              "  </thead>\n",
              "  <tbody>\n",
              "    <tr>\n",
              "      <th>0</th>\n",
              "      <td>2060</td>\n",
              "      <td>a few days or more</td>\n",
              "      <td>22%</td>\n",
              "      <td>50%</td>\n",
              "      <td>f</td>\n",
              "      <td>0.0</td>\n",
              "      <td>0.0</td>\n",
              "      <td>['reviews']</td>\n",
              "      <td>t</td>\n",
              "      <td>f</td>\n",
              "      <td>Manhattan</td>\n",
              "      <td>40.85722</td>\n",
              "      <td>-73.93790</td>\n",
              "      <td>t</td>\n",
              "      <td>Other</td>\n",
              "      <td>Private room</td>\n",
              "      <td>2</td>\n",
              "      <td>NaN</td>\n",
              "      <td>1.0</td>\n",
              "      <td>2.0</td>\n",
              "      <td>Real Bed</td>\n",
              "      <td>{Internet,Wifi}</td>\n",
              "      <td>NaN</td>\n",
              "      <td>100</td>\n",
              "      <td>NaN</td>\n",
              "      <td>NaN</td>\n",
              "      <td>NaN</td>\n",
              "      <td>1</td>\n",
              "      <td>$0.00</td>\n",
              "      <td>1</td>\n",
              "      <td>730</td>\n",
              "      <td>t</td>\n",
              "      <td>30</td>\n",
              "      <td>60</td>\n",
              "      <td>90</td>\n",
              "      <td>365</td>\n",
              "      <td>1</td>\n",
              "      <td>0</td>\n",
              "      <td>80.0</td>\n",
              "      <td>NaN</td>\n",
              "      <td>NaN</td>\n",
              "      <td>NaN</td>\n",
              "      <td>NaN</td>\n",
              "      <td>NaN</td>\n",
              "      <td>NaN</td>\n",
              "      <td>f</td>\n",
              "      <td>NaN</td>\n",
              "      <td>NaN</td>\n",
              "      <td>f</td>\n",
              "      <td>f</td>\n",
              "      <td>flexible</td>\n",
              "      <td>f</td>\n",
              "      <td>f</td>\n",
              "      <td>0.01</td>\n",
              "    </tr>\n",
              "    <tr>\n",
              "      <th>1</th>\n",
              "      <td>2595</td>\n",
              "      <td>within a day</td>\n",
              "      <td>87%</td>\n",
              "      <td>38%</td>\n",
              "      <td>f</td>\n",
              "      <td>6.0</td>\n",
              "      <td>6.0</td>\n",
              "      <td>['email', 'phone', 'reviews', 'offline_governm...</td>\n",
              "      <td>t</td>\n",
              "      <td>t</td>\n",
              "      <td>Manhattan</td>\n",
              "      <td>40.75362</td>\n",
              "      <td>-73.98377</td>\n",
              "      <td>f</td>\n",
              "      <td>Apartment</td>\n",
              "      <td>Entire home/apt</td>\n",
              "      <td>2</td>\n",
              "      <td>1.0</td>\n",
              "      <td>0.0</td>\n",
              "      <td>1.0</td>\n",
              "      <td>Real Bed</td>\n",
              "      <td>{TV,Wifi,\"Air conditioning\",Kitchen,\"Paid park...</td>\n",
              "      <td>NaN</td>\n",
              "      <td>225</td>\n",
              "      <td>$1,995.00</td>\n",
              "      <td>NaN</td>\n",
              "      <td>$350.00</td>\n",
              "      <td>1</td>\n",
              "      <td>$0.00</td>\n",
              "      <td>7</td>\n",
              "      <td>1125</td>\n",
              "      <td>t</td>\n",
              "      <td>4</td>\n",
              "      <td>34</td>\n",
              "      <td>64</td>\n",
              "      <td>339</td>\n",
              "      <td>48</td>\n",
              "      <td>5</td>\n",
              "      <td>94.0</td>\n",
              "      <td>9.0</td>\n",
              "      <td>9.0</td>\n",
              "      <td>10.0</td>\n",
              "      <td>10.0</td>\n",
              "      <td>10.0</td>\n",
              "      <td>9.0</td>\n",
              "      <td>f</td>\n",
              "      <td>NaN</td>\n",
              "      <td>NaN</td>\n",
              "      <td>f</td>\n",
              "      <td>f</td>\n",
              "      <td>strict_14_with_grace_period</td>\n",
              "      <td>t</td>\n",
              "      <td>t</td>\n",
              "      <td>0.38</td>\n",
              "    </tr>\n",
              "    <tr>\n",
              "      <th>2</th>\n",
              "      <td>3831</td>\n",
              "      <td>within an hour</td>\n",
              "      <td>83%</td>\n",
              "      <td>96%</td>\n",
              "      <td>f</td>\n",
              "      <td>1.0</td>\n",
              "      <td>1.0</td>\n",
              "      <td>['email', 'phone', 'reviews', 'kba']</td>\n",
              "      <td>t</td>\n",
              "      <td>t</td>\n",
              "      <td>Brooklyn</td>\n",
              "      <td>40.68514</td>\n",
              "      <td>-73.95976</td>\n",
              "      <td>t</td>\n",
              "      <td>Guest suite</td>\n",
              "      <td>Entire home/apt</td>\n",
              "      <td>3</td>\n",
              "      <td>1.0</td>\n",
              "      <td>1.0</td>\n",
              "      <td>4.0</td>\n",
              "      <td>Real Bed</td>\n",
              "      <td>{TV,\"Cable TV\",Internet,Wifi,\"Air conditioning...</td>\n",
              "      <td>500.0</td>\n",
              "      <td>89</td>\n",
              "      <td>$575.00</td>\n",
              "      <td>$2,100.00</td>\n",
              "      <td>$500.00</td>\n",
              "      <td>1</td>\n",
              "      <td>$0.00</td>\n",
              "      <td>1</td>\n",
              "      <td>730</td>\n",
              "      <td>t</td>\n",
              "      <td>6</td>\n",
              "      <td>10</td>\n",
              "      <td>13</td>\n",
              "      <td>151</td>\n",
              "      <td>313</td>\n",
              "      <td>69</td>\n",
              "      <td>90.0</td>\n",
              "      <td>9.0</td>\n",
              "      <td>9.0</td>\n",
              "      <td>10.0</td>\n",
              "      <td>10.0</td>\n",
              "      <td>10.0</td>\n",
              "      <td>8.0</td>\n",
              "      <td>f</td>\n",
              "      <td>NaN</td>\n",
              "      <td>NaN</td>\n",
              "      <td>f</td>\n",
              "      <td>f</td>\n",
              "      <td>moderate</td>\n",
              "      <td>f</td>\n",
              "      <td>f</td>\n",
              "      <td>4.71</td>\n",
              "    </tr>\n",
              "    <tr>\n",
              "      <th>3</th>\n",
              "      <td>5099</td>\n",
              "      <td>NaN</td>\n",
              "      <td>NaN</td>\n",
              "      <td>71%</td>\n",
              "      <td>f</td>\n",
              "      <td>1.0</td>\n",
              "      <td>1.0</td>\n",
              "      <td>['email', 'phone', 'reviews', 'jumio', 'govern...</td>\n",
              "      <td>t</td>\n",
              "      <td>f</td>\n",
              "      <td>Manhattan</td>\n",
              "      <td>40.74767</td>\n",
              "      <td>-73.97500</td>\n",
              "      <td>f</td>\n",
              "      <td>Apartment</td>\n",
              "      <td>Entire home/apt</td>\n",
              "      <td>2</td>\n",
              "      <td>1.0</td>\n",
              "      <td>1.0</td>\n",
              "      <td>1.0</td>\n",
              "      <td>Real Bed</td>\n",
              "      <td>{TV,\"Cable TV\",Internet,Wifi,\"Air conditioning...</td>\n",
              "      <td>NaN</td>\n",
              "      <td>200</td>\n",
              "      <td>NaN</td>\n",
              "      <td>NaN</td>\n",
              "      <td>$300.00</td>\n",
              "      <td>2</td>\n",
              "      <td>$100.00</td>\n",
              "      <td>3</td>\n",
              "      <td>21</td>\n",
              "      <td>t</td>\n",
              "      <td>0</td>\n",
              "      <td>0</td>\n",
              "      <td>0</td>\n",
              "      <td>0</td>\n",
              "      <td>78</td>\n",
              "      <td>8</td>\n",
              "      <td>90.0</td>\n",
              "      <td>10.0</td>\n",
              "      <td>9.0</td>\n",
              "      <td>10.0</td>\n",
              "      <td>10.0</td>\n",
              "      <td>10.0</td>\n",
              "      <td>9.0</td>\n",
              "      <td>f</td>\n",
              "      <td>NaN</td>\n",
              "      <td>NaN</td>\n",
              "      <td>f</td>\n",
              "      <td>f</td>\n",
              "      <td>moderate</td>\n",
              "      <td>t</td>\n",
              "      <td>t</td>\n",
              "      <td>0.59</td>\n",
              "    </tr>\n",
              "    <tr>\n",
              "      <th>4</th>\n",
              "      <td>5114</td>\n",
              "      <td>within a day</td>\n",
              "      <td>50%</td>\n",
              "      <td>NaN</td>\n",
              "      <td>f</td>\n",
              "      <td>3.0</td>\n",
              "      <td>3.0</td>\n",
              "      <td>['email', 'phone', 'reviews']</td>\n",
              "      <td>t</td>\n",
              "      <td>f</td>\n",
              "      <td>Manhattan</td>\n",
              "      <td>40.71910</td>\n",
              "      <td>-73.99040</td>\n",
              "      <td>t</td>\n",
              "      <td>Apartment</td>\n",
              "      <td>Private room</td>\n",
              "      <td>2</td>\n",
              "      <td>NaN</td>\n",
              "      <td>1.0</td>\n",
              "      <td>1.0</td>\n",
              "      <td>Real Bed</td>\n",
              "      <td>{TV,Internet,Wifi,\"Air conditioning\",Kitchen,E...</td>\n",
              "      <td>NaN</td>\n",
              "      <td>94</td>\n",
              "      <td>NaN</td>\n",
              "      <td>NaN</td>\n",
              "      <td>NaN</td>\n",
              "      <td>1</td>\n",
              "      <td>$13.00</td>\n",
              "      <td>1</td>\n",
              "      <td>730</td>\n",
              "      <td>t</td>\n",
              "      <td>30</td>\n",
              "      <td>60</td>\n",
              "      <td>90</td>\n",
              "      <td>109</td>\n",
              "      <td>75</td>\n",
              "      <td>0</td>\n",
              "      <td>94.0</td>\n",
              "      <td>10.0</td>\n",
              "      <td>10.0</td>\n",
              "      <td>10.0</td>\n",
              "      <td>10.0</td>\n",
              "      <td>10.0</td>\n",
              "      <td>10.0</td>\n",
              "      <td>f</td>\n",
              "      <td>NaN</td>\n",
              "      <td>NaN</td>\n",
              "      <td>f</td>\n",
              "      <td>f</td>\n",
              "      <td>strict_14_with_grace_period</td>\n",
              "      <td>f</td>\n",
              "      <td>f</td>\n",
              "      <td>0.56</td>\n",
              "    </tr>\n",
              "  </tbody>\n",
              "</table>\n",
              "</div>\n",
              "      <button class=\"colab-df-convert\" onclick=\"convertToInteractive('df-bb4c27a8-e531-4071-b771-a569b74285f9')\"\n",
              "              title=\"Convert this dataframe to an interactive table.\"\n",
              "              style=\"display:none;\">\n",
              "        \n",
              "  <svg xmlns=\"http://www.w3.org/2000/svg\" height=\"24px\"viewBox=\"0 0 24 24\"\n",
              "       width=\"24px\">\n",
              "    <path d=\"M0 0h24v24H0V0z\" fill=\"none\"/>\n",
              "    <path d=\"M18.56 5.44l.94 2.06.94-2.06 2.06-.94-2.06-.94-.94-2.06-.94 2.06-2.06.94zm-11 1L8.5 8.5l.94-2.06 2.06-.94-2.06-.94L8.5 2.5l-.94 2.06-2.06.94zm10 10l.94 2.06.94-2.06 2.06-.94-2.06-.94-.94-2.06-.94 2.06-2.06.94z\"/><path d=\"M17.41 7.96l-1.37-1.37c-.4-.4-.92-.59-1.43-.59-.52 0-1.04.2-1.43.59L10.3 9.45l-7.72 7.72c-.78.78-.78 2.05 0 2.83L4 21.41c.39.39.9.59 1.41.59.51 0 1.02-.2 1.41-.59l7.78-7.78 2.81-2.81c.8-.78.8-2.07 0-2.86zM5.41 20L4 18.59l7.72-7.72 1.47 1.35L5.41 20z\"/>\n",
              "  </svg>\n",
              "      </button>\n",
              "      \n",
              "  <style>\n",
              "    .colab-df-container {\n",
              "      display:flex;\n",
              "      flex-wrap:wrap;\n",
              "      gap: 12px;\n",
              "    }\n",
              "\n",
              "    .colab-df-convert {\n",
              "      background-color: #E8F0FE;\n",
              "      border: none;\n",
              "      border-radius: 50%;\n",
              "      cursor: pointer;\n",
              "      display: none;\n",
              "      fill: #1967D2;\n",
              "      height: 32px;\n",
              "      padding: 0 0 0 0;\n",
              "      width: 32px;\n",
              "    }\n",
              "\n",
              "    .colab-df-convert:hover {\n",
              "      background-color: #E2EBFA;\n",
              "      box-shadow: 0px 1px 2px rgba(60, 64, 67, 0.3), 0px 1px 3px 1px rgba(60, 64, 67, 0.15);\n",
              "      fill: #174EA6;\n",
              "    }\n",
              "\n",
              "    [theme=dark] .colab-df-convert {\n",
              "      background-color: #3B4455;\n",
              "      fill: #D2E3FC;\n",
              "    }\n",
              "\n",
              "    [theme=dark] .colab-df-convert:hover {\n",
              "      background-color: #434B5C;\n",
              "      box-shadow: 0px 1px 3px 1px rgba(0, 0, 0, 0.15);\n",
              "      filter: drop-shadow(0px 1px 2px rgba(0, 0, 0, 0.3));\n",
              "      fill: #FFFFFF;\n",
              "    }\n",
              "  </style>\n",
              "\n",
              "      <script>\n",
              "        const buttonEl =\n",
              "          document.querySelector('#df-bb4c27a8-e531-4071-b771-a569b74285f9 button.colab-df-convert');\n",
              "        buttonEl.style.display =\n",
              "          google.colab.kernel.accessAllowed ? 'block' : 'none';\n",
              "\n",
              "        async function convertToInteractive(key) {\n",
              "          const element = document.querySelector('#df-bb4c27a8-e531-4071-b771-a569b74285f9');\n",
              "          const dataTable =\n",
              "            await google.colab.kernel.invokeFunction('convertToInteractive',\n",
              "                                                     [key], {});\n",
              "          if (!dataTable) return;\n",
              "\n",
              "          const docLinkHtml = 'Like what you see? Visit the ' +\n",
              "            '<a target=\"_blank\" href=https://colab.research.google.com/notebooks/data_table.ipynb>data table notebook</a>'\n",
              "            + ' to learn more about interactive tables.';\n",
              "          element.innerHTML = '';\n",
              "          dataTable['output_type'] = 'display_data';\n",
              "          await google.colab.output.renderOutput(dataTable, element);\n",
              "          const docLink = document.createElement('div');\n",
              "          docLink.innerHTML = docLinkHtml;\n",
              "          element.appendChild(docLink);\n",
              "        }\n",
              "      </script>\n",
              "    </div>\n",
              "  </div>\n",
              "  "
            ],
            "text/plain": [
              "     id  host_response_time  ... require_guest_phone_verification reviews_per_month\n",
              "0  2060  a few days or more  ...                                f              0.01\n",
              "1  2595        within a day  ...                                t              0.38\n",
              "2  3831      within an hour  ...                                f              4.71\n",
              "3  5099                 NaN  ...                                t              0.59\n",
              "4  5114        within a day  ...                                f              0.56\n",
              "\n",
              "[5 rows x 54 columns]"
            ]
          },
          "metadata": {},
          "execution_count": 7
        }
      ]
    },
    {
      "cell_type": "markdown",
      "metadata": {
        "id": "bs39AwwafcpA"
      },
      "source": [
        "---\n",
        "### 2) 결측치 확인"
      ]
    },
    {
      "cell_type": "markdown",
      "metadata": {
        "id": "9-IpP0m4fcpA"
      },
      "source": [
        "- #### <font color='orange'> Q2. 각 컬럼의 결측치를 확인하고, 결측치가 많은 순서대로 결측치 비율과 함께 표로 나타내보세요.\n",
        "<font color='orange'> (결측치 0개인 컬럼은 나타내지 마세요)"
      ]
    },
    {
      "cell_type": "code",
      "source": [
        "data = pd.DataFrame({'missing_num':df.isnull().sum(), 'missing_%':round(df.isnull().sum()/len(df)*100)})\n",
        "positive = data[data['missing_num']>0]\n",
        "final=positive[positive['missing_%']>0]\n",
        "result=final.sort_values(by='missing_num', ascending=False)\n",
        "result"
      ],
      "metadata": {
        "colab": {
          "base_uri": "https://localhost:8080/",
          "height": 614
        },
        "id": "tm7J2f-XJeuQ",
        "outputId": "c514d00c-cf4c-4431-88fc-f1d0caa13339"
      },
      "execution_count": 33,
      "outputs": [
        {
          "output_type": "execute_result",
          "data": {
            "text/html": [
              "\n",
              "  <div id=\"df-6262bea0-a324-4a8d-8858-6320786f0c38\">\n",
              "    <div class=\"colab-df-container\">\n",
              "      <div>\n",
              "<style scoped>\n",
              "    .dataframe tbody tr th:only-of-type {\n",
              "        vertical-align: middle;\n",
              "    }\n",
              "\n",
              "    .dataframe tbody tr th {\n",
              "        vertical-align: top;\n",
              "    }\n",
              "\n",
              "    .dataframe thead th {\n",
              "        text-align: right;\n",
              "    }\n",
              "</style>\n",
              "<table border=\"1\" class=\"dataframe\">\n",
              "  <thead>\n",
              "    <tr style=\"text-align: right;\">\n",
              "      <th></th>\n",
              "      <th>missing_num</th>\n",
              "      <th>missing_%</th>\n",
              "    </tr>\n",
              "  </thead>\n",
              "  <tbody>\n",
              "    <tr>\n",
              "      <th>jurisdiction_names</th>\n",
              "      <td>50781</td>\n",
              "      <td>100.0</td>\n",
              "    </tr>\n",
              "    <tr>\n",
              "      <th>license</th>\n",
              "      <td>50759</td>\n",
              "      <td>100.0</td>\n",
              "    </tr>\n",
              "    <tr>\n",
              "      <th>square_feet</th>\n",
              "      <td>50407</td>\n",
              "      <td>99.0</td>\n",
              "    </tr>\n",
              "    <tr>\n",
              "      <th>monthly_price</th>\n",
              "      <td>46119</td>\n",
              "      <td>91.0</td>\n",
              "    </tr>\n",
              "    <tr>\n",
              "      <th>weekly_price</th>\n",
              "      <td>45411</td>\n",
              "      <td>89.0</td>\n",
              "    </tr>\n",
              "    <tr>\n",
              "      <th>host_response_time</th>\n",
              "      <td>19006</td>\n",
              "      <td>37.0</td>\n",
              "    </tr>\n",
              "    <tr>\n",
              "      <th>host_response_rate</th>\n",
              "      <td>19006</td>\n",
              "      <td>37.0</td>\n",
              "    </tr>\n",
              "    <tr>\n",
              "      <th>security_deposit</th>\n",
              "      <td>17325</td>\n",
              "      <td>34.0</td>\n",
              "    </tr>\n",
              "    <tr>\n",
              "      <th>host_acceptance_rate</th>\n",
              "      <td>14015</td>\n",
              "      <td>28.0</td>\n",
              "    </tr>\n",
              "    <tr>\n",
              "      <th>review_scores_location</th>\n",
              "      <td>11482</td>\n",
              "      <td>23.0</td>\n",
              "    </tr>\n",
              "    <tr>\n",
              "      <th>review_scores_value</th>\n",
              "      <td>11482</td>\n",
              "      <td>23.0</td>\n",
              "    </tr>\n",
              "    <tr>\n",
              "      <th>review_scores_checkin</th>\n",
              "      <td>11479</td>\n",
              "      <td>23.0</td>\n",
              "    </tr>\n",
              "    <tr>\n",
              "      <th>review_scores_accuracy</th>\n",
              "      <td>11466</td>\n",
              "      <td>23.0</td>\n",
              "    </tr>\n",
              "    <tr>\n",
              "      <th>review_scores_communication</th>\n",
              "      <td>11463</td>\n",
              "      <td>23.0</td>\n",
              "    </tr>\n",
              "    <tr>\n",
              "      <th>review_scores_cleanliness</th>\n",
              "      <td>11452</td>\n",
              "      <td>23.0</td>\n",
              "    </tr>\n",
              "    <tr>\n",
              "      <th>review_scores_rating</th>\n",
              "      <td>11431</td>\n",
              "      <td>23.0</td>\n",
              "    </tr>\n",
              "    <tr>\n",
              "      <th>reviews_per_month</th>\n",
              "      <td>10453</td>\n",
              "      <td>21.0</td>\n",
              "    </tr>\n",
              "    <tr>\n",
              "      <th>beds</th>\n",
              "      <td>482</td>\n",
              "      <td>1.0</td>\n",
              "    </tr>\n",
              "  </tbody>\n",
              "</table>\n",
              "</div>\n",
              "      <button class=\"colab-df-convert\" onclick=\"convertToInteractive('df-6262bea0-a324-4a8d-8858-6320786f0c38')\"\n",
              "              title=\"Convert this dataframe to an interactive table.\"\n",
              "              style=\"display:none;\">\n",
              "        \n",
              "  <svg xmlns=\"http://www.w3.org/2000/svg\" height=\"24px\"viewBox=\"0 0 24 24\"\n",
              "       width=\"24px\">\n",
              "    <path d=\"M0 0h24v24H0V0z\" fill=\"none\"/>\n",
              "    <path d=\"M18.56 5.44l.94 2.06.94-2.06 2.06-.94-2.06-.94-.94-2.06-.94 2.06-2.06.94zm-11 1L8.5 8.5l.94-2.06 2.06-.94-2.06-.94L8.5 2.5l-.94 2.06-2.06.94zm10 10l.94 2.06.94-2.06 2.06-.94-2.06-.94-.94-2.06-.94 2.06-2.06.94z\"/><path d=\"M17.41 7.96l-1.37-1.37c-.4-.4-.92-.59-1.43-.59-.52 0-1.04.2-1.43.59L10.3 9.45l-7.72 7.72c-.78.78-.78 2.05 0 2.83L4 21.41c.39.39.9.59 1.41.59.51 0 1.02-.2 1.41-.59l7.78-7.78 2.81-2.81c.8-.78.8-2.07 0-2.86zM5.41 20L4 18.59l7.72-7.72 1.47 1.35L5.41 20z\"/>\n",
              "  </svg>\n",
              "      </button>\n",
              "      \n",
              "  <style>\n",
              "    .colab-df-container {\n",
              "      display:flex;\n",
              "      flex-wrap:wrap;\n",
              "      gap: 12px;\n",
              "    }\n",
              "\n",
              "    .colab-df-convert {\n",
              "      background-color: #E8F0FE;\n",
              "      border: none;\n",
              "      border-radius: 50%;\n",
              "      cursor: pointer;\n",
              "      display: none;\n",
              "      fill: #1967D2;\n",
              "      height: 32px;\n",
              "      padding: 0 0 0 0;\n",
              "      width: 32px;\n",
              "    }\n",
              "\n",
              "    .colab-df-convert:hover {\n",
              "      background-color: #E2EBFA;\n",
              "      box-shadow: 0px 1px 2px rgba(60, 64, 67, 0.3), 0px 1px 3px 1px rgba(60, 64, 67, 0.15);\n",
              "      fill: #174EA6;\n",
              "    }\n",
              "\n",
              "    [theme=dark] .colab-df-convert {\n",
              "      background-color: #3B4455;\n",
              "      fill: #D2E3FC;\n",
              "    }\n",
              "\n",
              "    [theme=dark] .colab-df-convert:hover {\n",
              "      background-color: #434B5C;\n",
              "      box-shadow: 0px 1px 3px 1px rgba(0, 0, 0, 0.15);\n",
              "      filter: drop-shadow(0px 1px 2px rgba(0, 0, 0, 0.3));\n",
              "      fill: #FFFFFF;\n",
              "    }\n",
              "  </style>\n",
              "\n",
              "      <script>\n",
              "        const buttonEl =\n",
              "          document.querySelector('#df-6262bea0-a324-4a8d-8858-6320786f0c38 button.colab-df-convert');\n",
              "        buttonEl.style.display =\n",
              "          google.colab.kernel.accessAllowed ? 'block' : 'none';\n",
              "\n",
              "        async function convertToInteractive(key) {\n",
              "          const element = document.querySelector('#df-6262bea0-a324-4a8d-8858-6320786f0c38');\n",
              "          const dataTable =\n",
              "            await google.colab.kernel.invokeFunction('convertToInteractive',\n",
              "                                                     [key], {});\n",
              "          if (!dataTable) return;\n",
              "\n",
              "          const docLinkHtml = 'Like what you see? Visit the ' +\n",
              "            '<a target=\"_blank\" href=https://colab.research.google.com/notebooks/data_table.ipynb>data table notebook</a>'\n",
              "            + ' to learn more about interactive tables.';\n",
              "          element.innerHTML = '';\n",
              "          dataTable['output_type'] = 'display_data';\n",
              "          await google.colab.output.renderOutput(dataTable, element);\n",
              "          const docLink = document.createElement('div');\n",
              "          docLink.innerHTML = docLinkHtml;\n",
              "          element.appendChild(docLink);\n",
              "        }\n",
              "      </script>\n",
              "    </div>\n",
              "  </div>\n",
              "  "
            ],
            "text/plain": [
              "                             missing_num  missing_%\n",
              "jurisdiction_names                 50781      100.0\n",
              "license                            50759      100.0\n",
              "square_feet                        50407       99.0\n",
              "monthly_price                      46119       91.0\n",
              "weekly_price                       45411       89.0\n",
              "host_response_time                 19006       37.0\n",
              "host_response_rate                 19006       37.0\n",
              "security_deposit                   17325       34.0\n",
              "host_acceptance_rate               14015       28.0\n",
              "review_scores_location             11482       23.0\n",
              "review_scores_value                11482       23.0\n",
              "review_scores_checkin              11479       23.0\n",
              "review_scores_accuracy             11466       23.0\n",
              "review_scores_communication        11463       23.0\n",
              "review_scores_cleanliness          11452       23.0\n",
              "review_scores_rating               11431       23.0\n",
              "reviews_per_month                  10453       21.0\n",
              "beds                                 482        1.0"
            ]
          },
          "metadata": {},
          "execution_count": 33
        }
      ]
    },
    {
      "cell_type": "markdown",
      "metadata": {
        "id": "87TiQRKbfcpE"
      },
      "source": [
        "- #### <font color='orange'> Q3. 결측치가 있는 컬럼과 결측치 비율을 보기쉽게 그래프로 나타내 보세요."
      ]
    },
    {
      "cell_type": "markdown",
      "metadata": {
        "id": "NQhe9aDrM2d9"
      },
      "source": [
        ""
      ]
    },
    {
      "cell_type": "code",
      "source": [
        "plt.figure(figsize = (15,4))\n",
        "plt.xticks(rotation=45)\n",
        "plt.ylabel('missing_%')\n",
        "sns.barplot(x=result.index.tolist(), y=result['missing_%'])\n",
        "plt.show()"
      ],
      "metadata": {
        "colab": {
          "base_uri": "https://localhost:8080/",
          "height": 273
        },
        "id": "lZ3X-HV_X7Y0",
        "outputId": "54ea26bb-6c61-4825-ba3a-fa9cea268e69"
      },
      "execution_count": 36,
      "outputs": [
        {
          "output_type": "display_data",
          "data": {
            "image/png": "[encoded data removed]",
            "text/plain": [
              "<Figure size 1080x288 with 1 Axes>"
            ]
          },
          "metadata": {
            "needs_background": "light"
          }
        }
      ]
    },
    {
      "cell_type": "markdown",
      "metadata": {
        "id": "D8Xr7__1fcpI"
      },
      "source": [
        "- #### <font color='orange'> Q4. 결측치가 적은 beds 컬럼을 좀 더 자세히 살펴보겠습니다. \n",
        "  #### <font color='orange'> 'beds' 컬럼이 결측치인 데이터의 상위 5개를 출력해주세요."
      ]
    },
    {
      "cell_type": "code",
      "metadata": {
        "id": "52-Do2c_fcpJ",
        "outputId": "86fad9e1-fffa-4ab2-957a-7a6d07b40490",
        "colab": {
          "base_uri": "https://localhost:8080/",
          "height": 391
        }
      },
      "source": [
        "# Q4\n",
        "df[df['beds'].isnull()].head()"
      ],
      "execution_count": 37,
      "outputs": [
        {
          "output_type": "execute_result",
          "data": {
            "text/html": [
              "\n",
              "  <div id=\"df-c1995024-54ef-4aa4-b113-4ce4bbda19bb\">\n",
              "    <div class=\"colab-df-container\">\n",
              "      <div>\n",
              "<style scoped>\n",
              "    .dataframe tbody tr th:only-of-type {\n",
              "        vertical-align: middle;\n",
              "    }\n",
              "\n",
              "    .dataframe tbody tr th {\n",
              "        vertical-align: top;\n",
              "    }\n",
              "\n",
              "    .dataframe thead th {\n",
              "        text-align: right;\n",
              "    }\n",
              "</style>\n",
              "<table border=\"1\" class=\"dataframe\">\n",
              "  <thead>\n",
              "    <tr style=\"text-align: right;\">\n",
              "      <th></th>\n",
              "      <th>id</th>\n",
              "      <th>host_response_time</th>\n",
              "      <th>host_response_rate</th>\n",
              "      <th>host_acceptance_rate</th>\n",
              "      <th>host_is_superhost</th>\n",
              "      <th>host_listings_count</th>\n",
              "      <th>host_total_listings_count</th>\n",
              "      <th>host_verifications</th>\n",
              "      <th>host_has_profile_pic</th>\n",
              "      <th>host_identity_verified</th>\n",
              "      <th>neighborhood</th>\n",
              "      <th>latitude</th>\n",
              "      <th>longitude</th>\n",
              "      <th>is_location_exact</th>\n",
              "      <th>property_type</th>\n",
              "      <th>room_type</th>\n",
              "      <th>accommodates</th>\n",
              "      <th>bathrooms</th>\n",
              "      <th>bedrooms</th>\n",
              "      <th>beds</th>\n",
              "      <th>bed_type</th>\n",
              "      <th>amenities</th>\n",
              "      <th>square_feet</th>\n",
              "      <th>price</th>\n",
              "      <th>weekly_price</th>\n",
              "      <th>monthly_price</th>\n",
              "      <th>security_deposit</th>\n",
              "      <th>guests_included</th>\n",
              "      <th>extra_people</th>\n",
              "      <th>minimum_nights</th>\n",
              "      <th>maximum_nights</th>\n",
              "      <th>has_availability</th>\n",
              "      <th>availability_30</th>\n",
              "      <th>availability_60</th>\n",
              "      <th>availability_90</th>\n",
              "      <th>availability_365</th>\n",
              "      <th>number_of_reviews</th>\n",
              "      <th>number_of_reviews_ltm</th>\n",
              "      <th>review_scores_rating</th>\n",
              "      <th>review_scores_accuracy</th>\n",
              "      <th>review_scores_cleanliness</th>\n",
              "      <th>review_scores_checkin</th>\n",
              "      <th>review_scores_communication</th>\n",
              "      <th>review_scores_location</th>\n",
              "      <th>review_scores_value</th>\n",
              "      <th>requires_license</th>\n",
              "      <th>license</th>\n",
              "      <th>jurisdiction_names</th>\n",
              "      <th>instant_bookable</th>\n",
              "      <th>is_business_travel_ready</th>\n",
              "      <th>cancellation_policy</th>\n",
              "      <th>require_guest_profile_picture</th>\n",
              "      <th>require_guest_phone_verification</th>\n",
              "      <th>reviews_per_month</th>\n",
              "    </tr>\n",
              "  </thead>\n",
              "  <tbody>\n",
              "    <tr>\n",
              "      <th>808</th>\n",
              "      <td>321845</td>\n",
              "      <td>NaN</td>\n",
              "      <td>NaN</td>\n",
              "      <td>NaN</td>\n",
              "      <td>f</td>\n",
              "      <td>0.0</td>\n",
              "      <td>0.0</td>\n",
              "      <td>['email']</td>\n",
              "      <td>t</td>\n",
              "      <td>f</td>\n",
              "      <td>Manhattan</td>\n",
              "      <td>40.70850</td>\n",
              "      <td>-74.01795</td>\n",
              "      <td>t</td>\n",
              "      <td>Apartment</td>\n",
              "      <td>Private room</td>\n",
              "      <td>2</td>\n",
              "      <td>NaN</td>\n",
              "      <td>1.0</td>\n",
              "      <td>NaN</td>\n",
              "      <td>Real Bed</td>\n",
              "      <td>{}</td>\n",
              "      <td>NaN</td>\n",
              "      <td>150</td>\n",
              "      <td>$500.00</td>\n",
              "      <td>$1,600.00</td>\n",
              "      <td>NaN</td>\n",
              "      <td>1</td>\n",
              "      <td>$0.00</td>\n",
              "      <td>1</td>\n",
              "      <td>1125</td>\n",
              "      <td>t</td>\n",
              "      <td>30</td>\n",
              "      <td>60</td>\n",
              "      <td>90</td>\n",
              "      <td>365</td>\n",
              "      <td>0</td>\n",
              "      <td>0</td>\n",
              "      <td>NaN</td>\n",
              "      <td>NaN</td>\n",
              "      <td>NaN</td>\n",
              "      <td>NaN</td>\n",
              "      <td>NaN</td>\n",
              "      <td>NaN</td>\n",
              "      <td>NaN</td>\n",
              "      <td>f</td>\n",
              "      <td>NaN</td>\n",
              "      <td>NaN</td>\n",
              "      <td>f</td>\n",
              "      <td>f</td>\n",
              "      <td>strict_14_with_grace_period</td>\n",
              "      <td>f</td>\n",
              "      <td>f</td>\n",
              "      <td>NaN</td>\n",
              "    </tr>\n",
              "    <tr>\n",
              "      <th>1002</th>\n",
              "      <td>468613</td>\n",
              "      <td>NaN</td>\n",
              "      <td>NaN</td>\n",
              "      <td>NaN</td>\n",
              "      <td>f</td>\n",
              "      <td>1.0</td>\n",
              "      <td>1.0</td>\n",
              "      <td>['email', 'phone', 'facebook', 'reviews', 'kba']</td>\n",
              "      <td>t</td>\n",
              "      <td>t</td>\n",
              "      <td>Manhattan</td>\n",
              "      <td>40.72152</td>\n",
              "      <td>-73.99279</td>\n",
              "      <td>t</td>\n",
              "      <td>Apartment</td>\n",
              "      <td>Private room</td>\n",
              "      <td>1</td>\n",
              "      <td>NaN</td>\n",
              "      <td>1.0</td>\n",
              "      <td>NaN</td>\n",
              "      <td>Real Bed</td>\n",
              "      <td>{}</td>\n",
              "      <td>NaN</td>\n",
              "      <td>1300</td>\n",
              "      <td>NaN</td>\n",
              "      <td>NaN</td>\n",
              "      <td>NaN</td>\n",
              "      <td>1</td>\n",
              "      <td>$0.00</td>\n",
              "      <td>1</td>\n",
              "      <td>1125</td>\n",
              "      <td>t</td>\n",
              "      <td>0</td>\n",
              "      <td>0</td>\n",
              "      <td>0</td>\n",
              "      <td>0</td>\n",
              "      <td>0</td>\n",
              "      <td>0</td>\n",
              "      <td>NaN</td>\n",
              "      <td>NaN</td>\n",
              "      <td>NaN</td>\n",
              "      <td>NaN</td>\n",
              "      <td>NaN</td>\n",
              "      <td>NaN</td>\n",
              "      <td>NaN</td>\n",
              "      <td>f</td>\n",
              "      <td>NaN</td>\n",
              "      <td>NaN</td>\n",
              "      <td>f</td>\n",
              "      <td>f</td>\n",
              "      <td>flexible</td>\n",
              "      <td>f</td>\n",
              "      <td>f</td>\n",
              "      <td>NaN</td>\n",
              "    </tr>\n",
              "    <tr>\n",
              "      <th>1058</th>\n",
              "      <td>499249</td>\n",
              "      <td>NaN</td>\n",
              "      <td>NaN</td>\n",
              "      <td>0%</td>\n",
              "      <td>f</td>\n",
              "      <td>1.0</td>\n",
              "      <td>1.0</td>\n",
              "      <td>['email', 'phone', 'reviews', 'offline_governm...</td>\n",
              "      <td>t</td>\n",
              "      <td>f</td>\n",
              "      <td>Brooklyn</td>\n",
              "      <td>40.70528</td>\n",
              "      <td>-73.95756</td>\n",
              "      <td>t</td>\n",
              "      <td>Apartment</td>\n",
              "      <td>Private room</td>\n",
              "      <td>1</td>\n",
              "      <td>NaN</td>\n",
              "      <td>1.0</td>\n",
              "      <td>NaN</td>\n",
              "      <td>Real Bed</td>\n",
              "      <td>{}</td>\n",
              "      <td>NaN</td>\n",
              "      <td>190</td>\n",
              "      <td>NaN</td>\n",
              "      <td>NaN</td>\n",
              "      <td>$0.00</td>\n",
              "      <td>1</td>\n",
              "      <td>$100.00</td>\n",
              "      <td>1</td>\n",
              "      <td>218</td>\n",
              "      <td>t</td>\n",
              "      <td>30</td>\n",
              "      <td>60</td>\n",
              "      <td>90</td>\n",
              "      <td>365</td>\n",
              "      <td>1</td>\n",
              "      <td>0</td>\n",
              "      <td>NaN</td>\n",
              "      <td>10.0</td>\n",
              "      <td>8.0</td>\n",
              "      <td>10.0</td>\n",
              "      <td>10.0</td>\n",
              "      <td>10.0</td>\n",
              "      <td>10.0</td>\n",
              "      <td>f</td>\n",
              "      <td>NaN</td>\n",
              "      <td>NaN</td>\n",
              "      <td>t</td>\n",
              "      <td>f</td>\n",
              "      <td>strict_14_with_grace_period</td>\n",
              "      <td>f</td>\n",
              "      <td>f</td>\n",
              "      <td>0.01</td>\n",
              "    </tr>\n",
              "    <tr>\n",
              "      <th>1074</th>\n",
              "      <td>505231</td>\n",
              "      <td>NaN</td>\n",
              "      <td>NaN</td>\n",
              "      <td>NaN</td>\n",
              "      <td>f</td>\n",
              "      <td>1.0</td>\n",
              "      <td>1.0</td>\n",
              "      <td>['email', 'phone', 'reviews']</td>\n",
              "      <td>t</td>\n",
              "      <td>f</td>\n",
              "      <td>Manhattan</td>\n",
              "      <td>40.77799</td>\n",
              "      <td>-73.95223</td>\n",
              "      <td>t</td>\n",
              "      <td>Apartment</td>\n",
              "      <td>Private room</td>\n",
              "      <td>1</td>\n",
              "      <td>NaN</td>\n",
              "      <td>1.0</td>\n",
              "      <td>NaN</td>\n",
              "      <td>Real Bed</td>\n",
              "      <td>{}</td>\n",
              "      <td>NaN</td>\n",
              "      <td>80</td>\n",
              "      <td>$700.00</td>\n",
              "      <td>$3,000.00</td>\n",
              "      <td>NaN</td>\n",
              "      <td>1</td>\n",
              "      <td>$0.00</td>\n",
              "      <td>1</td>\n",
              "      <td>60</td>\n",
              "      <td>t</td>\n",
              "      <td>0</td>\n",
              "      <td>0</td>\n",
              "      <td>0</td>\n",
              "      <td>0</td>\n",
              "      <td>1</td>\n",
              "      <td>0</td>\n",
              "      <td>100.0</td>\n",
              "      <td>10.0</td>\n",
              "      <td>10.0</td>\n",
              "      <td>10.0</td>\n",
              "      <td>10.0</td>\n",
              "      <td>10.0</td>\n",
              "      <td>10.0</td>\n",
              "      <td>f</td>\n",
              "      <td>NaN</td>\n",
              "      <td>NaN</td>\n",
              "      <td>f</td>\n",
              "      <td>f</td>\n",
              "      <td>moderate</td>\n",
              "      <td>f</td>\n",
              "      <td>f</td>\n",
              "      <td>0.01</td>\n",
              "    </tr>\n",
              "    <tr>\n",
              "      <th>1208</th>\n",
              "      <td>587519</td>\n",
              "      <td>NaN</td>\n",
              "      <td>NaN</td>\n",
              "      <td>0%</td>\n",
              "      <td>f</td>\n",
              "      <td>1.0</td>\n",
              "      <td>1.0</td>\n",
              "      <td>['email', 'phone', 'facebook', 'reviews']</td>\n",
              "      <td>t</td>\n",
              "      <td>f</td>\n",
              "      <td>Brooklyn</td>\n",
              "      <td>40.71099</td>\n",
              "      <td>-73.95217</td>\n",
              "      <td>t</td>\n",
              "      <td>Apartment</td>\n",
              "      <td>Private room</td>\n",
              "      <td>1</td>\n",
              "      <td>1.0</td>\n",
              "      <td>1.0</td>\n",
              "      <td>NaN</td>\n",
              "      <td>Real Bed</td>\n",
              "      <td>{}</td>\n",
              "      <td>NaN</td>\n",
              "      <td>48</td>\n",
              "      <td>NaN</td>\n",
              "      <td>NaN</td>\n",
              "      <td>NaN</td>\n",
              "      <td>1</td>\n",
              "      <td>$0.00</td>\n",
              "      <td>5</td>\n",
              "      <td>30</td>\n",
              "      <td>t</td>\n",
              "      <td>0</td>\n",
              "      <td>0</td>\n",
              "      <td>0</td>\n",
              "      <td>0</td>\n",
              "      <td>1</td>\n",
              "      <td>0</td>\n",
              "      <td>80.0</td>\n",
              "      <td>6.0</td>\n",
              "      <td>6.0</td>\n",
              "      <td>10.0</td>\n",
              "      <td>10.0</td>\n",
              "      <td>10.0</td>\n",
              "      <td>6.0</td>\n",
              "      <td>f</td>\n",
              "      <td>NaN</td>\n",
              "      <td>NaN</td>\n",
              "      <td>f</td>\n",
              "      <td>f</td>\n",
              "      <td>flexible</td>\n",
              "      <td>f</td>\n",
              "      <td>f</td>\n",
              "      <td>0.02</td>\n",
              "    </tr>\n",
              "  </tbody>\n",
              "</table>\n",
              "</div>\n",
              "      <button class=\"colab-df-convert\" onclick=\"convertToInteractive('df-c1995024-54ef-4aa4-b113-4ce4bbda19bb')\"\n",
              "              title=\"Convert this dataframe to an interactive table.\"\n",
              "              style=\"display:none;\">\n",
              "        \n",
              "  <svg xmlns=\"http://www.w3.org/2000/svg\" height=\"24px\"viewBox=\"0 0 24 24\"\n",
              "       width=\"24px\">\n",
              "    <path d=\"M0 0h24v24H0V0z\" fill=\"none\"/>\n",
              "    <path d=\"M18.56 5.44l.94 2.06.94-2.06 2.06-.94-2.06-.94-.94-2.06-.94 2.06-2.06.94zm-11 1L8.5 8.5l.94-2.06 2.06-.94-2.06-.94L8.5 2.5l-.94 2.06-2.06.94zm10 10l.94 2.06.94-2.06 2.06-.94-2.06-.94-.94-2.06-.94 2.06-2.06.94z\"/><path d=\"M17.41 7.96l-1.37-1.37c-.4-.4-.92-.59-1.43-.59-.52 0-1.04.2-1.43.59L10.3 9.45l-7.72 7.72c-.78.78-.78 2.05 0 2.83L4 21.41c.39.39.9.59 1.41.59.51 0 1.02-.2 1.41-.59l7.78-7.78 2.81-2.81c.8-.78.8-2.07 0-2.86zM5.41 20L4 18.59l7.72-7.72 1.47 1.35L5.41 20z\"/>\n",
              "  </svg>\n",
              "      </button>\n",
              "      \n",
              "  <style>\n",
              "    .colab-df-container {\n",
              "      display:flex;\n",
              "      flex-wrap:wrap;\n",
              "      gap: 12px;\n",
              "    }\n",
              "\n",
              "    .colab-df-convert {\n",
              "      background-color: #E8F0FE;\n",
              "      border: none;\n",
              "      border-radius: 50%;\n",
              "      cursor: pointer;\n",
              "      display: none;\n",
              "      fill: #1967D2;\n",
              "      height: 32px;\n",
              "      padding: 0 0 0 0;\n",
              "      width: 32px;\n",
              "    }\n",
              "\n",
              "    .colab-df-convert:hover {\n",
              "      background-color: #E2EBFA;\n",
              "      box-shadow: 0px 1px 2px rgba(60, 64, 67, 0.3), 0px 1px 3px 1px rgba(60, 64, 67, 0.15);\n",
              "      fill: #174EA6;\n",
              "    }\n",
              "\n",
              "    [theme=dark] .colab-df-convert {\n",
              "      background-color: #3B4455;\n",
              "      fill: #D2E3FC;\n",
              "    }\n",
              "\n",
              "    [theme=dark] .colab-df-convert:hover {\n",
              "      background-color: #434B5C;\n",
              "      box-shadow: 0px 1px 3px 1px rgba(0, 0, 0, 0.15);\n",
              "      filter: drop-shadow(0px 1px 2px rgba(0, 0, 0, 0.3));\n",
              "      fill: #FFFFFF;\n",
              "    }\n",
              "  </style>\n",
              "\n",
              "      <script>\n",
              "        const buttonEl =\n",
              "          document.querySelector('#df-c1995024-54ef-4aa4-b113-4ce4bbda19bb button.colab-df-convert');\n",
              "        buttonEl.style.display =\n",
              "          google.colab.kernel.accessAllowed ? 'block' : 'none';\n",
              "\n",
              "        async function convertToInteractive(key) {\n",
              "          const element = document.querySelector('#df-c1995024-54ef-4aa4-b113-4ce4bbda19bb');\n",
              "          const dataTable =\n",
              "            await google.colab.kernel.invokeFunction('convertToInteractive',\n",
              "                                                     [key], {});\n",
              "          if (!dataTable) return;\n",
              "\n",
              "          const docLinkHtml = 'Like what you see? Visit the ' +\n",
              "            '<a target=\"_blank\" href=https://colab.research.google.com/notebooks/data_table.ipynb>data table notebook</a>'\n",
              "            + ' to learn more about interactive tables.';\n",
              "          element.innerHTML = '';\n",
              "          dataTable['output_type'] = 'display_data';\n",
              "          await google.colab.output.renderOutput(dataTable, element);\n",
              "          const docLink = document.createElement('div');\n",
              "          docLink.innerHTML = docLinkHtml;\n",
              "          element.appendChild(docLink);\n",
              "        }\n",
              "      </script>\n",
              "    </div>\n",
              "  </div>\n",
              "  "
            ],
            "text/plain": [
              "          id  ... reviews_per_month\n",
              "808   321845  ...               NaN\n",
              "1002  468613  ...               NaN\n",
              "1058  499249  ...              0.01\n",
              "1074  505231  ...              0.01\n",
              "1208  587519  ...              0.02\n",
              "\n",
              "[5 rows x 54 columns]"
            ]
          },
          "metadata": {},
          "execution_count": 37
        }
      ]
    },
    {
      "cell_type": "markdown",
      "metadata": {
        "id": "aG4VKbWVfcpM"
      },
      "source": [
        "---\n",
        "### 3) 범주형 변수 확인\n",
        "<font color='gray'> - 편의를 위해 결측치가 있는 컬럼을 모두 제거하고 진행하겠습니다."
      ]
    },
    {
      "cell_type": "code",
      "metadata": {
        "id": "82BUbKO1fcpM"
      },
      "source": [
        "drop_col = ['jurisdiction_names', 'license', 'square_feet', 'monthly_price',\n",
        "       'weekly_price', 'host_response_rate', 'host_response_time',\n",
        "       'security_deposit', 'host_acceptance_rate', 'review_scores_location',\n",
        "       'review_scores_value', 'review_scores_checkin',\n",
        "       'review_scores_accuracy', 'review_scores_communication',\n",
        "       'review_scores_cleanliness', 'review_scores_rating',\n",
        "       'reviews_per_month', 'beds']"
      ],
      "execution_count": 38,
      "outputs": []
    },
    {
      "cell_type": "code",
      "metadata": {
        "id": "pgWTlyZ0fcpO"
      },
      "source": [
        "df = df.drop(columns=drop_col)"
      ],
      "execution_count": 39,
      "outputs": []
    },
    {
      "cell_type": "markdown",
      "metadata": {
        "id": "9uEFs_yxfcpR"
      },
      "source": [
        "- #### 각 컬럼별 변수 타입 확인"
      ]
    },
    {
      "cell_type": "code",
      "metadata": {
        "id": "C52vx5OEfcpR",
        "outputId": "65c03f32-b7db-4489-bed7-023bbbf5e5c1",
        "colab": {
          "base_uri": "https://localhost:8080/"
        }
      },
      "source": [
        "df.info()"
      ],
      "execution_count": 40,
      "outputs": [
        {
          "output_type": "stream",
          "name": "stdout",
          "text": [
            "<class 'pandas.core.frame.DataFrame'>\n",
            "Int64Index: 50796 entries, 0 to 50795\n",
            "Data columns (total 36 columns):\n",
            " #   Column                            Non-Null Count  Dtype  \n",
            "---  ------                            --------------  -----  \n",
            " 0   id                                50796 non-null  int64  \n",
            " 1   host_is_superhost                 50791 non-null  object \n",
            " 2   host_listings_count               50791 non-null  float64\n",
            " 3   host_total_listings_count         50791 non-null  float64\n",
            " 4   host_verifications                50796 non-null  object \n",
            " 5   host_has_profile_pic              50791 non-null  object \n",
            " 6   host_identity_verified            50791 non-null  object \n",
            " 7   neighborhood                      50796 non-null  object \n",
            " 8   latitude                          50796 non-null  float64\n",
            " 9   longitude                         50796 non-null  float64\n",
            " 10  is_location_exact                 50796 non-null  object \n",
            " 11  property_type                     50796 non-null  object \n",
            " 12  room_type                         50796 non-null  object \n",
            " 13  accommodates                      50796 non-null  int64  \n",
            " 14  bathrooms                         50742 non-null  float64\n",
            " 15  bedrooms                          50719 non-null  float64\n",
            " 16  bed_type                          50796 non-null  object \n",
            " 17  amenities                         50796 non-null  object \n",
            " 18  price                             50796 non-null  int64  \n",
            " 19  guests_included                   50796 non-null  int64  \n",
            " 20  extra_people                      50796 non-null  object \n",
            " 21  minimum_nights                    50796 non-null  int64  \n",
            " 22  maximum_nights                    50796 non-null  int64  \n",
            " 23  has_availability                  50796 non-null  object \n",
            " 24  availability_30                   50796 non-null  int64  \n",
            " 25  availability_60                   50796 non-null  int64  \n",
            " 26  availability_90                   50796 non-null  int64  \n",
            " 27  availability_365                  50796 non-null  int64  \n",
            " 28  number_of_reviews                 50796 non-null  int64  \n",
            " 29  number_of_reviews_ltm             50796 non-null  int64  \n",
            " 30  requires_license                  50796 non-null  object \n",
            " 31  instant_bookable                  50796 non-null  object \n",
            " 32  is_business_travel_ready          50796 non-null  object \n",
            " 33  cancellation_policy               50796 non-null  object \n",
            " 34  require_guest_profile_picture     50796 non-null  object \n",
            " 35  require_guest_phone_verification  50796 non-null  object \n",
            "dtypes: float64(6), int64(12), object(18)\n",
            "memory usage: 14.3+ MB\n"
          ]
        }
      ]
    },
    {
      "cell_type": "markdown",
      "metadata": {
        "id": "wmmKNpDffcpT"
      },
      "source": [
        "- #### <font color='orange'> Q5. Room Type 에는 어떤 것들이 있는지 살펴보겠습니다. \n",
        "#### <font color='orange'> room_type의 종류별 갯수에 대한 그래프를 그려주세요."
      ]
    },
    {
      "cell_type": "code",
      "metadata": {
        "id": "L5NgpaZAfcpU",
        "outputId": "d7b42757-b3f6-4783-f531-ba3523d962da",
        "colab": {
          "base_uri": "https://localhost:8080/",
          "height": 354
        }
      },
      "source": [
        "# Q5\n",
        "plt.figure(figsize=(6,4))\n",
        "plt.xlabel('room_type')\n",
        "plt.ylabel('count')\n",
        "sns.barplot(df.groupby('room_type').size().index.tolist(), df.groupby('room_type').size().tolist())"
      ],
      "execution_count": 43,
      "outputs": [
        {
          "output_type": "stream",
          "name": "stderr",
          "text": [
            "/usr/local/lib/python3.7/dist-packages/seaborn/_decorators.py:43: FutureWarning: Pass the following variables as keyword args: x, y. From version 0.12, the only valid positional argument will be `data`, and passing other arguments without an explicit keyword will result in an error or misinterpretation.\n",
            "  FutureWarning\n"
          ]
        },
        {
          "output_type": "execute_result",
          "data": {
            "text/plain": [
              "<matplotlib.axes._subplots.AxesSubplot at 0x7fbb2a1af590>"
            ]
          },
          "metadata": {},
          "execution_count": 43
        },
        {
          "output_type": "display_data",
          "data": {
            "image/png": "[encoded data removed]",
            "text/plain": [
              "<Figure size 432x288 with 1 Axes>"
            ]
          },
          "metadata": {
            "needs_background": "light"
          }
        }
      ]
    },
    {
      "cell_type": "markdown",
      "metadata": {
        "id": "tDraukBJfcpW"
      },
      "source": [
        "- #### <font color='orange'> Q6. 위 그래프의 세로축이 갯수가 아닌 비율을 나타내도록 재구성해보세요."
      ]
    },
    {
      "cell_type": "code",
      "metadata": {
        "id": "0Sw6cCs0fcpW",
        "outputId": "814cb379-17c7-4a88-91f5-e89744462e63",
        "colab": {
          "base_uri": "https://localhost:8080/",
          "height": 354
        }
      },
      "source": [
        "# Q6\n",
        "plt.figure(figsize=(6,4))\n",
        "plt.xlabel('room_type')\n",
        "plt.ylabel('count')\n",
        "data = df.groupby('room_type').size().tolist()\n",
        "sns.barplot(df.groupby('room_type').size().index.tolist(), [i/sum(data) for i in data])"
      ],
      "execution_count": 50,
      "outputs": [
        {
          "output_type": "stream",
          "name": "stderr",
          "text": [
            "/usr/local/lib/python3.7/dist-packages/seaborn/_decorators.py:43: FutureWarning: Pass the following variables as keyword args: x, y. From version 0.12, the only valid positional argument will be `data`, and passing other arguments without an explicit keyword will result in an error or misinterpretation.\n",
            "  FutureWarning\n"
          ]
        },
        {
          "output_type": "execute_result",
          "data": {
            "text/plain": [
              "<matplotlib.axes._subplots.AxesSubplot at 0x7fbb2a39aa10>"
            ]
          },
          "metadata": {},
          "execution_count": 50
        },
        {
          "output_type": "display_data",
          "data": {
            "image/png": "[encoded data removed]",
            "text/plain": [
              "<Figure size 432x288 with 1 Axes>"
            ]
          },
          "metadata": {
            "needs_background": "light"
          }
        }
      ]
    },
    {
      "cell_type": "markdown",
      "metadata": {
        "id": "iN06xvJufcpZ"
      },
      "source": [
        "- #### <font color='orange'> Q7. 각 지역별로 room_type의 비율이 어땠는 지 알고 싶습니다.\n",
        "#### <font color='orange'> 아래 그래프와 같이 각 지역별로 room_type의 갯수가 어땠는지 보여주세요.    "
      ]
    },
    {
      "cell_type": "code",
      "source": [
        "# Q7\n",
        "plt.figure(figsize=(15,6))\n",
        "sns.countplot(data=df, x='neighborhood', hue='room_type')"
      ],
      "metadata": {
        "colab": {
          "base_uri": "https://localhost:8080/",
          "height": 426
        },
        "id": "GgkUvpybpRwK",
        "outputId": "f46fa077-25e9-41d3-fc43-7524c0f1a5f4"
      },
      "execution_count": 87,
      "outputs": [
        {
          "output_type": "execute_result",
          "data": {
            "text/plain": [
              "<matplotlib.axes._subplots.AxesSubplot at 0x7fbb29c33b90>"
            ]
          },
          "metadata": {},
          "execution_count": 87
        },
        {
          "output_type": "display_data",
          "data": {
            "image/png": "[encoded data removed]",
            "text/plain": [
              "<Figure size 1080x432 with 1 Axes>"
            ]
          },
          "metadata": {
            "needs_background": "light"
          }
        }
      ]
    },
    {
      "cell_type": "markdown",
      "metadata": {
        "id": "UA5MIpa0fcpg"
      },
      "source": [
        "- #### <font color='orange'> Q8. 각 지역별로 가격의 분포가 어떤지 알고 싶습니다.\n",
        "#### <font color='orange'> 아래 그래프와 같이 각 지역별로 가격의 분포를 보여주세요."
      ]
    },
    {
      "cell_type": "code",
      "metadata": {
        "id": "7tcvOOZmfcpg",
        "outputId": "25a15e9d-0f9f-4a86-99cf-4b227753ab90",
        "colab": {
          "base_uri": "https://localhost:8080/",
          "height": 387
        }
      },
      "source": [
        "# Q8\n",
        "plt.figure(figsize=(15,6))\n",
        "sns.catplot(data = df, x = 'neighborhood', y = 'price')\n",
        "plt.show()"
      ],
      "execution_count": 90,
      "outputs": [
        {
          "output_type": "display_data",
          "data": {
            "text/plain": [
              "<Figure size 1080x432 with 0 Axes>"
            ]
          },
          "metadata": {}
        },
        {
          "output_type": "display_data",
          "data": {
            "image/png": "[encoded data removed]",
            "text/plain": [
              "<Figure size 360x360 with 1 Axes>"
            ]
          },
          "metadata": {
            "needs_background": "light"
          }
        }
      ]
    },
    {
      "cell_type": "markdown",
      "metadata": {
        "id": "xVaZ98NWfcpj"
      },
      "source": [
        "- #### <font color='orange'> Q9. 위 그래프들로부터 알 수 있는 사실은 무엇인가요? 그 이유는 무엇이라고 생각하시나요?"
      ]
    },
    {
      "cell_type": "code",
      "metadata": {
        "id": "CjWumnVOfcpj"
      },
      "source": [
        "# Q9\n",
        "모든 지역에 대다수의 에어비앤비 가격은 2000달러 이하로 비교적 유사한 수치를 보여주고 있다.\n",
        "하지만 맨해튼과 브루클린의 경우 에어비앤비 수도 많고, 가격 분포 또한 크며 outlier가 많다. \n",
        "에어비앤비가 많은 것은 인구 밀도가 높기 때문, 혹은 방문객이 많기 때문일 것이라 유추할 수 있을 것이다.\n",
        "가격 분포는 넓지만 높은 가격대로 책정된 에어비앤비 수가 2000달러 이하로 책정된 에어비앤비보다 그 수가 적은 것으로 보아 소수의 고가의 상품이 존재하는 것으로 보인다."
      ],
      "execution_count": null,
      "outputs": []
    },
    {
      "cell_type": "markdown",
      "metadata": {
        "id": "orxw6U8C2eK5"
      },
      "source": [
        "---\n",
        "### 4) 연속형 변수 확인"
      ]
    },
    {
      "cell_type": "markdown",
      "metadata": {
        "id": "fnmWOYOnfcpn"
      },
      "source": [
        "- #### <font color='orange'> Q10. 각 방의 수용가능인원의 분포를 알고싶습니다.\n",
        "#### <font color='orange'> 'accommodates' 칼럼에 대한 히스토그램을 그려주세요."
      ]
    },
    {
      "cell_type": "code",
      "metadata": {
        "id": "P4Ttc5iGfcpo",
        "outputId": "f1ca5bca-b6ee-4f09-930d-8d34dbcfac01",
        "colab": {
          "base_uri": "https://localhost:8080/",
          "height": 315
        }
      },
      "source": [
        "# Q10\n",
        "sns.histplot(data = df, x='accommodates', color='pink')\n",
        "plt.figure(figsize=(15,6))"
      ],
      "execution_count": 95,
      "outputs": [
        {
          "output_type": "execute_result",
          "data": {
            "text/plain": [
              "<Figure size 1080x432 with 0 Axes>"
            ]
          },
          "metadata": {},
          "execution_count": 95
        },
        {
          "output_type": "display_data",
          "data": {
            "image/png": "[encoded data removed]",
            "text/plain": [
              "<Figure size 432x288 with 1 Axes>"
            ]
          },
          "metadata": {
            "needs_background": "light"
          }
        },
        {
          "output_type": "display_data",
          "data": {
            "text/plain": [
              "<Figure size 1080x432 with 0 Axes>"
            ]
          },
          "metadata": {}
        }
      ]
    },
    {
      "cell_type": "markdown",
      "metadata": {
        "id": "Likx5P43fcpr"
      },
      "source": [
        "- #### <font color='orange'> Q11. 각 방의 가격의 분포를 알고 싶습니다.\n",
        "#### <font color='orange'> 'price' 칼럼에 대한 히스토그램을 그려주세요. 범위는 0~1000까지만 보여주세요."
      ]
    },
    {
      "cell_type": "code",
      "metadata": {
        "id": "PM4oic9Ffcpr",
        "outputId": "a0aff81a-96ce-402d-8aab-dc2744fedddb",
        "colab": {
          "base_uri": "https://localhost:8080/",
          "height": 302
        }
      },
      "source": [
        "# Q11\n",
        "plt.figure(figsize=(15,6))\n",
        "sns.histplot(data=df, x='price', color='pink')"
      ],
      "execution_count": 97,
      "outputs": [
        {
          "output_type": "execute_result",
          "data": {
            "text/plain": [
              "<matplotlib.axes._subplots.AxesSubplot at 0x7fbb20e09a50>"
            ]
          },
          "metadata": {},
          "execution_count": 97
        },
        {
          "output_type": "display_data",
          "data": {
            "image/png": "[encoded data removed]",
            "text/plain": [
              "<Figure size 1080x432 with 1 Axes>"
            ]
          },
          "metadata": {
            "needs_background": "light"
          }
        }
      ]
    },
    {
      "cell_type": "markdown",
      "metadata": {
        "id": "ZXHTpb4bfcpt"
      },
      "source": [
        "---\n",
        "\n",
        "EDA는 언뜻보면 불필요해 보이는 과정이지만, 실제 데이터를 다룰때 매우매우 중요한 과정입니다.\n",
        "\n",
        "때문에 기본적인 개념 및 시각화 방법은 숙지해 두시는 것이 좋습니다!\n",
        "\n",
        "시각화한 자료를 바탕으로 실제 특성들을 가공하는 방법에 대해서는 \n",
        "\n",
        "<font color='orange'> 다음 시간인 FE 시간에 배우게 될 예정입니다.\n",
        "\n",
        "다음 시간에 봐요!\n",
        "\n",
        "---"
      ]
    },
    {
      "cell_type": "markdown",
      "metadata": {
        "id": "QCliOYxPfcpw"
      },
      "source": [
        "* Q2 hint\n",
        "\n",
        "<font color='white'> df의 null의 개수를 센 다음에, \".to_frame()\" 을 써보세요. </font>"
      ]
    },
    {
      "cell_type": "markdown",
      "metadata": {
        "id": "bhGUNQPlfcpw"
      },
      "source": [
        "* Q3 hint\n",
        "\n",
        "<font color='white'> x축 라벨을 45도 기울이려면 plot.set_xticklabels()을 찾아보세요. </font>\n",
        "\n"
      ]
    }
  ]
}