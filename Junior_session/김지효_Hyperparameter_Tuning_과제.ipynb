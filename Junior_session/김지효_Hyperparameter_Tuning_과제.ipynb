{
  "nbformat": 4,
  "nbformat_minor": 0,
  "metadata": {
    "colab": {
      "name": "김지효_Hyperparameter Tuning 과제.ipynb",
      "provenance": [],
      "collapsed_sections": [],
      "include_colab_link": true
    },
    "kernelspec": {
      "display_name": "Python 3",
      "language": "python",
      "name": "python3"
    },
    "language_info": {
      "codemirror_mode": {
        "name": "ipython",
        "version": 3
      },
      "file_extension": ".py",
      "mimetype": "text/x-python",
      "name": "python",
      "nbconvert_exporter": "python",
      "pygments_lexer": "ipython3",
      "version": "3.9.6"
    },
    "toc": {
      "base_numbering": 1,
      "nav_menu": {},
      "number_sections": false,
      "sideBar": true,
      "skip_h1_title": false,
      "title_cell": "Table of Contents",
      "title_sidebar": "Contents",
      "toc_cell": false,
      "toc_position": {
        "height": "calc(100% - 180px)",
        "left": "10px",
        "top": "150px",
        "width": "165px"
      },
      "toc_section_display": true,
      "toc_window_display": true
    },
    "varInspector": {
      "cols": {
        "lenName": 16,
        "lenType": 16,
        "lenVar": 40
      },
      "kernels_config": {
        "python": {
          "delete_cmd_postfix": "",
          "delete_cmd_prefix": "del ",
          "library": "var_list.py",
          "varRefreshCmd": "print(var_dic_list())"
        },
        "r": {
          "delete_cmd_postfix": ") ",
          "delete_cmd_prefix": "rm(",
          "library": "var_list.r",
          "varRefreshCmd": "cat(var_dic_list()) "
        }
      },
      "types_to_exclude": [
        "module",
        "function",
        "builtin_function_or_method",
        "instance",
        "_Feature"
      ],
      "window_display": false
    }
  },
  "cells": [
    {
      "cell_type": "markdown",
      "metadata": {
        "id": "view-in-github",
        "colab_type": "text"
      },
      "source": [
        "<a href=\"https://colab.research.google.com/github/Jihyozhixiao/YBIGTA/blob/master/%EA%B9%80%EC%A7%80%ED%9A%A8_Hyperparameter_Tuning_%EA%B3%BC%EC%A0%9C.ipynb\" target=\"_parent\"><img src=\"https://colab.research.google.com/assets/colab-badge.svg\" alt=\"Open In Colab\"/></a>"
      ]
    },
    {
      "cell_type": "markdown",
      "metadata": {
        "id": "gLQCzvw0JYlf"
      },
      "source": [
        "# Hyperparameter Tuning 과제\n",
        "\n",
        "- Manual Search\n",
        "- Random Search (Grid Search 참고)\n",
        "- Bayesian Optimization using HyperOpt\n",
        "<br>연습해보기!"
      ]
    },
    {
      "cell_type": "code",
      "metadata": {
        "ExecuteTime": {
          "end_time": "2021-09-24T20:46:43.988763Z",
          "start_time": "2021-09-24T20:46:43.952056Z"
        },
        "id": "1sDnWUqtJYlg"
      },
      "source": [
        "from sklearn.model_selection import train_test_split\n",
        "from sklearn.linear_model import LogisticRegression\n",
        "from sklearn.metrics import confusion_matrix, accuracy_score, classification_report\n",
        "from sklearn.datasets import load_iris\n",
        "import warnings\n",
        "warnings.filterwarnings('ignore')\n",
        "import time\n",
        "from functools import partial"
      ],
      "execution_count": null,
      "outputs": []
    },
    {
      "cell_type": "code",
      "metadata": {
        "ExecuteTime": {
          "end_time": "2021-09-24T20:46:44.961821Z",
          "start_time": "2021-09-24T20:46:44.943070Z"
        },
        "id": "rA3eO5blJYlr"
      },
      "source": [
        "iris = load_iris()\n",
        "\n",
        "X = iris.data\n",
        "y = iris.target"
      ],
      "execution_count": null,
      "outputs": []
    },
    {
      "cell_type": "code",
      "metadata": {
        "ExecuteTime": {
          "end_time": "2021-09-24T20:58:53.910634Z",
          "start_time": "2021-09-24T20:58:53.859317Z"
        },
        "id": "R6305NrasoYk"
      },
      "source": [
        "X_train, X_test, y_train, y_test = train_test_split(X, y, random_state=23)"
      ],
      "execution_count": null,
      "outputs": []
    },
    {
      "cell_type": "markdown",
      "metadata": {
        "id": "gyhhqrxrsoYl"
      },
      "source": [
        "## 1. Manual Search\n",
        "사이킷런 Logistic Regresstion https://scikit-learn.org/stable/modules/generated/sklearn.linear_model.LogisticRegression.html?highlight=logistic%20regression#sklearn.linear_model.LogisticRegression"
      ]
    },
    {
      "cell_type": "code",
      "metadata": {
        "ExecuteTime": {
          "end_time": "2021-09-24T21:00:41.903089Z",
          "start_time": "2021-09-24T21:00:41.725376Z"
        },
        "scrolled": false,
        "id": "h_Exh_OQsoYl",
        "colab": {
          "base_uri": "https://localhost:8080/"
        },
        "outputId": "f61a8e59-592c-4b46-a1f8-0eed056e85d8"
      },
      "source": [
        "'''\n",
        "maunal 1 \n",
        "'''\n",
        "\n",
        "manual1 = LogisticRegression(\n",
        "    penalty='l2', dual=False, tol=0.0001, C=1.0, fit_intercept=True, intercept_scaling=1, class_weight=None, random_state=None, solver='lbfgs', max_iter=100, multi_class='auto', verbose=0, warm_start=False, n_jobs=None, l1_ratio=None\n",
        ")\n",
        "\n",
        "# 다 default 값일 때 값\n",
        "manual1.fit(X_train,y_train)\n",
        "y_pred = manual1.predict(X_train)\n",
        "\n",
        "# 정확도를 계산해주세요\n",
        "accuracy = accuracy_score(y_train, y_pred)\n",
        "accuracy"
      ],
      "execution_count": null,
      "outputs": [
        {
          "output_type": "execute_result",
          "data": {
            "text/plain": [
              "0.9642857142857143"
            ]
          },
          "metadata": {},
          "execution_count": 4
        }
      ]
    },
    {
      "cell_type": "code",
      "source": [
        "'''\n",
        "maunal 2 \n",
        "'''\n",
        "# 다양한 하이퍼파라미터 값을 사용하여 또 다른 manual search를 해보세요\n",
        "# manual1 에 비해 정확도가 더 높아지면 더 좋습니다 ! 낮아졌어요,,,\n",
        "\n",
        "manual2 = LogisticRegression(\n",
        "    penalty='elasticnet', dual=False, tol=0.001, C=2.0, fit_intercept=False, intercept_scaling=1, class_weight=None, random_state=None, solver='saga', max_iter=100, multi_class='auto', verbose=0, warm_start=True, n_jobs=None, l1_ratio=0\n",
        ")\n",
        "\n",
        "manual2.fit(X_train,y_train)\n",
        "y_pred = manual2.predict(X_train)\n",
        "\n",
        "# 정확도를 계산해주세요\n",
        "accuracy = accuracy_score(y_train, y_pred)\n",
        "accuracy"
      ],
      "metadata": {
        "id": "i0RC67jrOQ0j",
        "colab": {
          "base_uri": "https://localhost:8080/"
        },
        "outputId": "5c826ea4-11d9-4dd2-8d45-ec1580a01381"
      },
      "execution_count": null,
      "outputs": [
        {
          "output_type": "execute_result",
          "data": {
            "text/plain": [
              "0.9553571428571429"
            ]
          },
          "metadata": {},
          "execution_count": 5
        }
      ]
    },
    {
      "cell_type": "markdown",
      "metadata": {
        "id": "FJuP0s1VJYl2"
      },
      "source": [
        "## 2. Grid Search"
      ]
    },
    {
      "cell_type": "code",
      "metadata": {
        "ExecuteTime": {
          "end_time": "2021-09-24T20:46:52.466208Z",
          "start_time": "2021-09-24T20:46:48.233455Z"
        },
        "id": "-vm5xBoDJYl3",
        "colab": {
          "base_uri": "https://localhost:8080/"
        },
        "outputId": "60f4e7f0-5b62-45ae-dc4a-ecbf5ba849f1"
      },
      "source": [
        "from sklearn.model_selection import GridSearchCV\n",
        "\n",
        "# 파라미터 후보 설정\n",
        "param_grid = {'C': [0.001, 0.01, 0.1, 1, 10, 100],\n",
        "              'max_iter' : [100, 500, 1000, 1500, 2000]}\n",
        "\n",
        "# 그리드 서치 호출\n",
        "grid_search = GridSearchCV(LogisticRegression(), param_grid, cv=5, return_train_score=True)   \n",
        "\n",
        "# 데이터 분할\n",
        "X_train, X_test, y_train, y_test = train_test_split(X, y, random_state=23)\n",
        "\n",
        "start = time.time()\n",
        "# 모델 적합\n",
        "grid_search.fit(X_train, y_train)\n",
        "\n",
        "# 모델 평가\n",
        "print(f\"test set score : {grid_search.score(X_test, y_test)}\")\n",
        "\n",
        "print(f\"best parameters: {grid_search.best_params_}\")\n",
        "print(f\"best CV score: {grid_search.best_score_}\")\n",
        "\n",
        "# 소요 시간 측정\n",
        "print(\"time :\", time.time() - start)"
      ],
      "execution_count": null,
      "outputs": [
        {
          "output_type": "stream",
          "name": "stdout",
          "text": [
            "test set score : 1.0\n",
            "best parameters: {'C': 1, 'max_iter': 100}\n",
            "best CV score: 0.9553359683794467\n",
            "time : 7.331149339675903\n"
          ]
        }
      ]
    },
    {
      "cell_type": "markdown",
      "metadata": {
        "id": "qDzu1DN5JYl-"
      },
      "source": [
        "## 3. Random Search\n",
        "grid search 코드와 매우 유사하니 참고해서 빈칸 채워주세요 !"
      ]
    },
    {
      "cell_type": "code",
      "metadata": {
        "ExecuteTime": {
          "end_time": "2021-09-24T20:42:41.866511Z",
          "start_time": "2021-09-24T20:42:41.835657Z"
        },
        "id": "iEpwD9lsJYl_",
        "colab": {
          "base_uri": "https://localhost:8080/"
        },
        "outputId": "776e4f0a-73d6-45c7-a25b-118a4e51287d"
      },
      "source": [
        "from sklearn.model_selection import RandomizedSearchCV\n",
        "\n",
        "# 파라미터 후보 설정\n",
        "param_grid = {'C': [0.001, 0.01, 0.1, 1, 10, 100],\n",
        "              'max_iter' : [100, 500, 1000, 1500, 2000]}\n",
        "\n",
        "# 랜덤 서치 호출\n",
        "random_search = RandomizedSearchCV(LogisticRegression(), param_grid, cv=5, return_train_score=True)   \n",
        "\n",
        "# 데이터 분할\n",
        "X_train, X_test, y_train, y_test = train_test_split(X, y, random_state=23)\n",
        "\n",
        "start = time.time()\n",
        "# 모델 적합\n",
        "random_search.fit(X_train, y_train)\n",
        "\n",
        "# 모델 평가\n",
        "print(f\"test set score : {random_search.score(X_test, y_test)}\")\n",
        "\n",
        "print(f\"best parameters: {random_search.best_params_}\")\n",
        "print(f\"best CV score: {random_search.best_score_}\")\n",
        "\n",
        "# 소요 시간 측정\n",
        "print(\"time :\", time.time() - start)\n"
      ],
      "execution_count": null,
      "outputs": [
        {
          "output_type": "stream",
          "name": "stdout",
          "text": [
            "test set score : 0.9736842105263158\n",
            "best parameters: {'max_iter': 100, 'C': 10}\n",
            "best CV score: 0.9553359683794467\n",
            "time : 2.529472827911377\n"
          ]
        }
      ]
    },
    {
      "cell_type": "markdown",
      "metadata": {
        "id": "Xdm1vVy2JYmN"
      },
      "source": [
        "## 4. HyperOpt"
      ]
    },
    {
      "cell_type": "code",
      "metadata": {
        "ExecuteTime": {
          "end_time": "2021-09-24T17:08:35.707056Z",
          "start_time": "2021-09-24T17:08:29.489528Z"
        },
        "id": "Kng8KkvUsoYn",
        "colab": {
          "base_uri": "https://localhost:8080/"
        },
        "outputId": "74db35e5-6c4a-4095-f07f-f12145a9f3c1"
      },
      "source": [
        "!pip install hyperopt"
      ],
      "execution_count": null,
      "outputs": [
        {
          "output_type": "stream",
          "name": "stdout",
          "text": [
            "Requirement already satisfied: hyperopt in /usr/local/lib/python3.7/dist-packages (0.1.2)\n",
            "Requirement already satisfied: scipy in /usr/local/lib/python3.7/dist-packages (from hyperopt) (1.4.1)\n",
            "Requirement already satisfied: numpy in /usr/local/lib/python3.7/dist-packages (from hyperopt) (1.21.5)\n",
            "Requirement already satisfied: tqdm in /usr/local/lib/python3.7/dist-packages (from hyperopt) (4.63.0)\n",
            "Requirement already satisfied: six in /usr/local/lib/python3.7/dist-packages (from hyperopt) (1.15.0)\n",
            "Requirement already satisfied: future in /usr/local/lib/python3.7/dist-packages (from hyperopt) (0.16.0)\n",
            "Requirement already satisfied: networkx in /usr/local/lib/python3.7/dist-packages (from hyperopt) (2.6.3)\n",
            "Requirement already satisfied: pymongo in /usr/local/lib/python3.7/dist-packages (from hyperopt) (4.0.2)\n"
          ]
        }
      ]
    },
    {
      "cell_type": "code",
      "metadata": {
        "ExecuteTime": {
          "end_time": "2021-09-24T21:31:05.279023Z",
          "start_time": "2021-09-24T21:31:03.139368Z"
        },
        "scrolled": true,
        "id": "buTAAPeisoYo",
        "colab": {
          "base_uri": "https://localhost:8080/"
        },
        "outputId": "5a041be6-35f8-4533-8fd8-5bb122952f4c"
      },
      "source": [
        "from hyperopt import hp, fmin, tpe, STATUS_OK, Trials\n",
        "from sklearn.model_selection import cross_val_score\n",
        "\n",
        "space = {\n",
        "    'penalty' : hp.choice('penalty', ['l2', 'none']), \n",
        "    'fit_intercept' : hp.choice('fit_intercept', [True, False]),\n",
        "    'max_iter' : hp.uniform('max_iter', 100,1000)\n",
        "}\n",
        "\n",
        "def objective(space):\n",
        "    hopt = LogisticRegression(penalty = space['penalty'], \n",
        "                                fit_intercept = space['fit_intercept'],\n",
        "                                 max_iter = space['max_iter']\n",
        "                                 )\n",
        "    accuracy = cross_val_score(hopt, X_train, y_train, cv=4).mean()\n",
        "    return {'loss': -accuracy, 'status': STATUS_OK }\n",
        "    \n",
        "trials = Trials()\n",
        "best = fmin(fn= objective,\n",
        "            space= space,\n",
        "            algo= tpe.suggest,\n",
        "            max_evals = 20,\n",
        "            trials= trials)\n",
        "best"
      ],
      "execution_count": null,
      "outputs": [
        {
          "output_type": "stream",
          "name": "stdout",
          "text": [
            "100%|██████████| 20/20 [00:02<00:00,  8.92it/s, best loss: -0.9553571428571429]\n"
          ]
        },
        {
          "output_type": "execute_result",
          "data": {
            "text/plain": [
              "{'fit_intercept': 0, 'max_iter': 421.1721225436772, 'penalty': 0}"
            ]
          },
          "metadata": {},
          "execution_count": 16
        }
      ]
    },
    {
      "cell_type": "code",
      "metadata": {
        "ExecuteTime": {
          "end_time": "2021-09-24T21:36:32.724645Z",
          "start_time": "2021-09-24T21:36:32.590849Z"
        },
        "id": "NCd8oFwXsoYo",
        "colab": {
          "base_uri": "https://localhost:8080/"
        },
        "outputId": "35472b9c-40df-430d-f95d-bad02cfe19cd"
      },
      "source": [
        "from sklearn.metrics import classification_report,confusion_matrix\n",
        "from sklearn.metrics import accuracy_score\n",
        "\n",
        "pen = {0: 'l1', 1: 'l2', 2: 'elasticnet', 3: None}\n",
        "incpt = {0: True, 1: False}\n",
        "\n",
        "trained = LogisticRegression(penalty = pen[best['penalty']],\n",
        "                             fit_intercept = incpt[best['fit_intercept']],\n",
        "                             solver='liblinear'\n",
        "                            ).fit(X_train,y_train)\n",
        "\n",
        "\n",
        "hopt_pf = trained.predict(X_test)\n",
        "hopt_acc = accuracy_score(y_test,hopt_pf)\n",
        "print(confusion_matrix(y_test,hopt_pf))\n",
        "print(classification_report(y_test,hopt_pf))\n",
        "print(hopt_acc)"
      ],
      "execution_count": null,
      "outputs": [
        {
          "output_type": "stream",
          "name": "stdout",
          "text": [
            "[[16  0  0]\n",
            " [ 0 11  0]\n",
            " [ 0  1 10]]\n",
            "              precision    recall  f1-score   support\n",
            "\n",
            "           0       1.00      1.00      1.00        16\n",
            "           1       0.92      1.00      0.96        11\n",
            "           2       1.00      0.91      0.95        11\n",
            "\n",
            "    accuracy                           0.97        38\n",
            "   macro avg       0.97      0.97      0.97        38\n",
            "weighted avg       0.98      0.97      0.97        38\n",
            "\n",
            "0.9736842105263158\n"
          ]
        }
      ]
    },
    {
      "cell_type": "markdown",
      "metadata": {
        "id": "wEcAD9_ZsoYp"
      },
      "source": [
        "## 선택) Bayesian Optimization 사용\n"
      ]
    },
    {
      "cell_type": "code",
      "metadata": {
        "id": "LMx-5StQsoYp",
        "colab": {
          "base_uri": "https://localhost:8080/"
        },
        "outputId": "e21893fe-1982-472f-96c6-960ecb3409b2"
      },
      "source": [
        "!pip install bayesian-optimization"
      ],
      "execution_count": null,
      "outputs": [
        {
          "output_type": "stream",
          "name": "stdout",
          "text": [
            "Collecting bayesian-optimization\n",
            "  Downloading bayesian-optimization-1.2.0.tar.gz (14 kB)\n",
            "Requirement already satisfied: numpy>=1.9.0 in /usr/local/lib/python3.7/dist-packages (from bayesian-optimization) (1.21.5)\n",
            "Requirement already satisfied: scipy>=0.14.0 in /usr/local/lib/python3.7/dist-packages (from bayesian-optimization) (1.4.1)\n",
            "Requirement already satisfied: scikit-learn>=0.18.0 in /usr/local/lib/python3.7/dist-packages (from bayesian-optimization) (1.0.2)\n",
            "Requirement already satisfied: joblib>=0.11 in /usr/local/lib/python3.7/dist-packages (from scikit-learn>=0.18.0->bayesian-optimization) (1.1.0)\n",
            "Requirement already satisfied: threadpoolctl>=2.0.0 in /usr/local/lib/python3.7/dist-packages (from scikit-learn>=0.18.0->bayesian-optimization) (3.1.0)\n",
            "Building wheels for collected packages: bayesian-optimization\n",
            "  Building wheel for bayesian-optimization (setup.py) ... \u001b[?25l\u001b[?25hdone\n",
            "  Created wheel for bayesian-optimization: filename=bayesian_optimization-1.2.0-py3-none-any.whl size=11685 sha256=1a9aa838d770474b3d1b1a124eeb0910048eb1b0269e6bb6844a29b7c1364fb7\n",
            "  Stored in directory: /root/.cache/pip/wheels/fd/9b/71/f127d694e02eb40bcf18c7ae9613b88a6be4470f57a8528c5b\n",
            "Successfully built bayesian-optimization\n",
            "Installing collected packages: bayesian-optimization\n",
            "Successfully installed bayesian-optimization-1.2.0\n"
          ]
        }
      ]
    },
    {
      "cell_type": "code",
      "metadata": {
        "id": "qTLHHCvFsoYp",
        "colab": {
          "base_uri": "https://localhost:8080/",
          "height": 525
        },
        "outputId": "3452ce07-c7ab-433d-ca7f-12e46bc41497"
      },
      "source": [
        "from bayes_opt import BayesianOptimization\n",
        "from sklearn.preprocessing import MinMaxScaler\n",
        "\n",
        "pbounds = {'max_depth': (3, 7),\n",
        "                'learning_rate': (0.01, 0.2),\n",
        "                'n_estimators': (5000, 10000),\n",
        "                'gamma': (0, 100),\n",
        "                'min_child_weight': (0, 3),\n",
        "                'subsample': (0.5, 1),\n",
        "                'colsample_bytree' :(0.2, 1)}\n",
        "\n",
        "scaler = MinMaxScaler()\n",
        "X_train_scaled = scaler.fit_transform(X_train)\n",
        "X_test_scaled = scaler.transform(X_test)\n",
        "\n",
        "def black_box_function(C):\n",
        "    # C: SVC hyper parameter to optimize for.\n",
        "    model = SVC(C = C)\n",
        "    model.fit(X_train_scaled, y_train)\n",
        "    y_score = model.decision_function(X_test_scaled)\n",
        "    f = roc_auc_score(y_test, y_score)\n",
        "    return f\n",
        "\n",
        "optimizer = BayesianOptimization(\n",
        "    f=black_box_function,\n",
        "    pbounds=pbounds,\n",
        "    random_state=1\n",
        ")\n",
        "\n",
        "optimizer.maximize(init_points=2, n_iter=30)\n",
        "print(optimizer.max)\n",
        "\n",
        "for i, res in enumerate(optimizer.res):\n",
        "    print(\"Iteration {}: \\n\\t{}\".format(i, res))"
      ],
      "execution_count": null,
      "outputs": [
        {
          "output_type": "stream",
          "name": "stdout",
          "text": [
            "|   iter    |  target   | colsam... |   gamma   | learni... | max_depth | min_ch... | n_esti... | subsample |\n",
            "-------------------------------------------------------------------------------------------------------------\n"
          ]
        },
        {
          "output_type": "error",
          "ename": "TypeError",
          "evalue": "ignored",
          "traceback": [
            "\u001b[0;31m---------------------------------------------------------------------------\u001b[0m",
            "\u001b[0;31mKeyError\u001b[0m                                  Traceback (most recent call last)",
            "\u001b[0;32m/usr/local/lib/python3.7/dist-packages/bayes_opt/target_space.py\u001b[0m in \u001b[0;36mprobe\u001b[0;34m(self, params)\u001b[0m\n\u001b[1;32m    190\u001b[0m         \u001b[0;32mtry\u001b[0m\u001b[0;34m:\u001b[0m\u001b[0;34m\u001b[0m\u001b[0;34m\u001b[0m\u001b[0m\n\u001b[0;32m--> 191\u001b[0;31m             \u001b[0mtarget\u001b[0m \u001b[0;34m=\u001b[0m \u001b[0mself\u001b[0m\u001b[0;34m.\u001b[0m\u001b[0m_cache\u001b[0m\u001b[0;34m[\u001b[0m\u001b[0m_hashable\u001b[0m\u001b[0;34m(\u001b[0m\u001b[0mx\u001b[0m\u001b[0;34m)\u001b[0m\u001b[0;34m]\u001b[0m\u001b[0;34m\u001b[0m\u001b[0;34m\u001b[0m\u001b[0m\n\u001b[0m\u001b[1;32m    192\u001b[0m         \u001b[0;32mexcept\u001b[0m \u001b[0mKeyError\u001b[0m\u001b[0;34m:\u001b[0m\u001b[0;34m\u001b[0m\u001b[0;34m\u001b[0m\u001b[0m\n",
            "\u001b[0;31mKeyError\u001b[0m: (0.5336176037620592, 72.0324493442158, 0.010021731215295529, 4.209330290527359, 0.44026767245133913, 5461.692973843989, 0.5931301056888354)",
            "\nDuring handling of the above exception, another exception occurred:\n",
            "\u001b[0;31mTypeError\u001b[0m                                 Traceback (most recent call last)",
            "\u001b[0;32m<ipython-input-30-0566f254a4d0>\u001b[0m in \u001b[0;36m<module>\u001b[0;34m()\u001b[0m\n\u001b[1;32m     28\u001b[0m )\n\u001b[1;32m     29\u001b[0m \u001b[0;34m\u001b[0m\u001b[0m\n\u001b[0;32m---> 30\u001b[0;31m \u001b[0moptimizer\u001b[0m\u001b[0;34m.\u001b[0m\u001b[0mmaximize\u001b[0m\u001b[0;34m(\u001b[0m\u001b[0minit_points\u001b[0m\u001b[0;34m=\u001b[0m\u001b[0;36m2\u001b[0m\u001b[0;34m,\u001b[0m \u001b[0mn_iter\u001b[0m\u001b[0;34m=\u001b[0m\u001b[0;36m30\u001b[0m\u001b[0;34m)\u001b[0m\u001b[0;34m\u001b[0m\u001b[0;34m\u001b[0m\u001b[0m\n\u001b[0m\u001b[1;32m     31\u001b[0m \u001b[0mprint\u001b[0m\u001b[0;34m(\u001b[0m\u001b[0moptimizer\u001b[0m\u001b[0;34m.\u001b[0m\u001b[0mmax\u001b[0m\u001b[0;34m)\u001b[0m\u001b[0;34m\u001b[0m\u001b[0;34m\u001b[0m\u001b[0m\n\u001b[1;32m     32\u001b[0m \u001b[0;34m\u001b[0m\u001b[0m\n",
            "\u001b[0;32m/usr/local/lib/python3.7/dist-packages/bayes_opt/bayesian_optimization.py\u001b[0m in \u001b[0;36mmaximize\u001b[0;34m(self, init_points, n_iter, acq, kappa, kappa_decay, kappa_decay_delay, xi, **gp_params)\u001b[0m\n\u001b[1;32m    183\u001b[0m                 \u001b[0miteration\u001b[0m \u001b[0;34m+=\u001b[0m \u001b[0;36m1\u001b[0m\u001b[0;34m\u001b[0m\u001b[0;34m\u001b[0m\u001b[0m\n\u001b[1;32m    184\u001b[0m \u001b[0;34m\u001b[0m\u001b[0m\n\u001b[0;32m--> 185\u001b[0;31m             \u001b[0mself\u001b[0m\u001b[0;34m.\u001b[0m\u001b[0mprobe\u001b[0m\u001b[0;34m(\u001b[0m\u001b[0mx_probe\u001b[0m\u001b[0;34m,\u001b[0m \u001b[0mlazy\u001b[0m\u001b[0;34m=\u001b[0m\u001b[0;32mFalse\u001b[0m\u001b[0;34m)\u001b[0m\u001b[0;34m\u001b[0m\u001b[0;34m\u001b[0m\u001b[0m\n\u001b[0m\u001b[1;32m    186\u001b[0m \u001b[0;34m\u001b[0m\u001b[0m\n\u001b[1;32m    187\u001b[0m             \u001b[0;32mif\u001b[0m \u001b[0mself\u001b[0m\u001b[0;34m.\u001b[0m\u001b[0m_bounds_transformer\u001b[0m\u001b[0;34m:\u001b[0m\u001b[0;34m\u001b[0m\u001b[0;34m\u001b[0m\u001b[0m\n",
            "\u001b[0;32m/usr/local/lib/python3.7/dist-packages/bayes_opt/bayesian_optimization.py\u001b[0m in \u001b[0;36mprobe\u001b[0;34m(self, params, lazy)\u001b[0m\n\u001b[1;32m    114\u001b[0m             \u001b[0mself\u001b[0m\u001b[0;34m.\u001b[0m\u001b[0m_queue\u001b[0m\u001b[0;34m.\u001b[0m\u001b[0madd\u001b[0m\u001b[0;34m(\u001b[0m\u001b[0mparams\u001b[0m\u001b[0;34m)\u001b[0m\u001b[0;34m\u001b[0m\u001b[0;34m\u001b[0m\u001b[0m\n\u001b[1;32m    115\u001b[0m         \u001b[0;32melse\u001b[0m\u001b[0;34m:\u001b[0m\u001b[0;34m\u001b[0m\u001b[0;34m\u001b[0m\u001b[0m\n\u001b[0;32m--> 116\u001b[0;31m             \u001b[0mself\u001b[0m\u001b[0;34m.\u001b[0m\u001b[0m_space\u001b[0m\u001b[0;34m.\u001b[0m\u001b[0mprobe\u001b[0m\u001b[0;34m(\u001b[0m\u001b[0mparams\u001b[0m\u001b[0;34m)\u001b[0m\u001b[0;34m\u001b[0m\u001b[0;34m\u001b[0m\u001b[0m\n\u001b[0m\u001b[1;32m    117\u001b[0m             \u001b[0mself\u001b[0m\u001b[0;34m.\u001b[0m\u001b[0mdispatch\u001b[0m\u001b[0;34m(\u001b[0m\u001b[0mEvents\u001b[0m\u001b[0;34m.\u001b[0m\u001b[0mOPTIMIZATION_STEP\u001b[0m\u001b[0;34m)\u001b[0m\u001b[0;34m\u001b[0m\u001b[0;34m\u001b[0m\u001b[0m\n\u001b[1;32m    118\u001b[0m \u001b[0;34m\u001b[0m\u001b[0m\n",
            "\u001b[0;32m/usr/local/lib/python3.7/dist-packages/bayes_opt/target_space.py\u001b[0m in \u001b[0;36mprobe\u001b[0;34m(self, params)\u001b[0m\n\u001b[1;32m    192\u001b[0m         \u001b[0;32mexcept\u001b[0m \u001b[0mKeyError\u001b[0m\u001b[0;34m:\u001b[0m\u001b[0;34m\u001b[0m\u001b[0;34m\u001b[0m\u001b[0m\n\u001b[1;32m    193\u001b[0m             \u001b[0mparams\u001b[0m \u001b[0;34m=\u001b[0m \u001b[0mdict\u001b[0m\u001b[0;34m(\u001b[0m\u001b[0mzip\u001b[0m\u001b[0;34m(\u001b[0m\u001b[0mself\u001b[0m\u001b[0;34m.\u001b[0m\u001b[0m_keys\u001b[0m\u001b[0;34m,\u001b[0m \u001b[0mx\u001b[0m\u001b[0;34m)\u001b[0m\u001b[0;34m)\u001b[0m\u001b[0;34m\u001b[0m\u001b[0;34m\u001b[0m\u001b[0m\n\u001b[0;32m--> 194\u001b[0;31m             \u001b[0mtarget\u001b[0m \u001b[0;34m=\u001b[0m \u001b[0mself\u001b[0m\u001b[0;34m.\u001b[0m\u001b[0mtarget_func\u001b[0m\u001b[0;34m(\u001b[0m\u001b[0;34m**\u001b[0m\u001b[0mparams\u001b[0m\u001b[0;34m)\u001b[0m\u001b[0;34m\u001b[0m\u001b[0;34m\u001b[0m\u001b[0m\n\u001b[0m\u001b[1;32m    195\u001b[0m             \u001b[0mself\u001b[0m\u001b[0;34m.\u001b[0m\u001b[0mregister\u001b[0m\u001b[0;34m(\u001b[0m\u001b[0mx\u001b[0m\u001b[0;34m,\u001b[0m \u001b[0mtarget\u001b[0m\u001b[0;34m)\u001b[0m\u001b[0;34m\u001b[0m\u001b[0;34m\u001b[0m\u001b[0m\n\u001b[1;32m    196\u001b[0m         \u001b[0;32mreturn\u001b[0m \u001b[0mtarget\u001b[0m\u001b[0;34m\u001b[0m\u001b[0;34m\u001b[0m\u001b[0m\n",
            "\u001b[0;31mTypeError\u001b[0m: black_box_function() got an unexpected keyword argument 'colsample_bytree'"
          ]
        }
      ]
    },
    {
      "cell_type": "code",
      "source": [
        ""
      ],
      "metadata": {
        "id": "Oc7PRfcMiMpD"
      },
      "execution_count": null,
      "outputs": []
    }
  ]
}
