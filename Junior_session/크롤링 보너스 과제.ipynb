{
 "cells": [
  {
   "cell_type": "code",
   "execution_count": 1,
   "id": "cf9618c1",
   "metadata": {},
   "outputs": [
    {
     "name": "stderr",
     "output_type": "stream",
     "text": [
      "\n",
      "\n",
      "====== WebDriver manager ======\n",
      "Current google-chrome version is 99.0.4844\n",
      "Get LATEST chromedriver version for 99.0.4844 google-chrome\n",
      "Driver [C:\\Users\\19jih\\.wdm\\drivers\\chromedriver\\win32\\99.0.4844.51\\chromedriver.exe] found in cache\n"
     ]
    }
   ],
   "source": [
    "from selenium import webdriver\n",
    "from selenium.webdriver.chrome.service import Service\n",
    "from webdriver_manager.chrome import ChromeDriverManager\n",
    "from selenium.webdriver.common.keys import Keys\n",
    "from selenium.webdriver.common.by import By\n",
    "import time\n",
    "import os\n",
    "import urllib.request  # 이미지 저장 모듈\n",
    "\n",
    "service = Service(executable_path=ChromeDriverManager().install())"
   ]
  },
  {
   "cell_type": "code",
   "execution_count": 3,
   "id": "7bbe4136",
   "metadata": {},
   "outputs": [],
   "source": [
    "# 사용자 정의 검색어 받아오기 - Type your answer\n",
    "keyword = '강아지'\n",
    "\n",
    "# 폴더 만들기\n",
    "if not os.path.exists(f'{keyword}'):   # 해당 폴더의 존재여부를 boolean값으로 출력해줌\n",
    "    # not True = False : 해당폴더가 기존에 존재하지 않으면 새 폴더를 만든다!\n",
    "    os.mkdir(f'{keyword}')  \n",
    "\n",
    "url = f'https://search.naver.com/search.naver?sm=tab_hty.top&where=image&query={keyword}'\n",
    "browser = webdriver.Chrome(service=service)\n",
    "browser.implicitly_wait(5) \n",
    "browser.maximize_window() # 화면크기 최대화\n",
    "browser.get(url)  \n",
    "time.sleep(2)"
   ]
  },
  {
   "cell_type": "code",
   "execution_count": 4,
   "id": "4c8a273b",
   "metadata": {},
   "outputs": [],
   "source": [
    "# 무한스크롤\n",
    "before_h = browser.execute_script(\"return window.scrollY\") \n",
    "\n",
    "while True:\n",
    "    browser.find_element(By.CSS_SELECTOR, \"body\").send_keys(Keys.END)\n",
    "    time.sleep(1) \n",
    "    after_h = browser.execute_script(\"return window.scrollY\")\n",
    "\n",
    "    if after_h == before_h:\n",
    "        break\n",
    "    before_h = after_h  "
   ]
  },
  {
   "cell_type": "code",
   "execution_count": 5,
   "id": "ffc1cd6b",
   "metadata": {},
   "outputs": [
    {
     "name": "stdout",
     "output_type": "stream",
     "text": [
      "1 https://search.pstatic.net/common/?src=http%3A%2F%2Fblogfiles.naver.net%2FMjAyMjAzMTRfMjM5%2FMDAxNjQ3MjM5ODE1MzA5.eEYGEI_OZxzzDKOYoW1XnYtRN6IPII7EpiHrVIhcYG8g.UUeIO2ZPKIR9_f1rvWkuCir2nzOqL4HJnwPT2oRm0iYg.PNG.wadam437%2F123_-_2022-03-14T152727.480.png&type=a340\n",
      "2 https://search.pstatic.net/common/?src=http%3A%2F%2Fblogfiles.naver.net%2FMjAyMjAzMTNfMTEz%2FMDAxNjQ3MTQ0OTg2NDcx.PeYrQV3IR3CrC4C5dXq4ttWaZzEhwn5fUWj6vCs1i68g.Kw7Kfc3QWZ4g47dHnxvhkuYwqmc6hrWdrLAG1Mn2zRsg.JPEG.sora3922%2FIMG_2706.JPG&type=a340\n",
      "3 https://search.pstatic.net/common/?src=http%3A%2F%2Fblogfiles.naver.net%2FMjAyMjAzMDlfOTcg%2FMDAxNjQ2NzU0MTMzMzEy.iq6SSHArgYlZ-8krH1vZStt93Ksn5nYqrK6kwPCXx1Mg.TV6LsSelzx6dkh3u4nLSXePL4sNvpB9bRu_V9qr45yUg.JPEG.kim_toggi%2F_MG_2432.JPG&type=a340\n",
      "4 https://search.pstatic.net/common/?src=http%3A%2F%2Fblogfiles.naver.net%2FMjAyMjAxMThfMTM0%2FMDAxNjQyNDkxMDE2NDAx.iA17iM0DkzyAE1B0GSywAlsyM-s44Ls-cXQgTNSaBnog.E-Vtw3DoVPP7hjbn3IWcLwsYFJ9CH-FJ7sPBlOymBuog.JPEG.seoyoon_916%2Fbatch_0118%25B8%25BB%25C6%25BC%25C1%25EE16.jpg&type=a340\n",
      "5 https://search.pstatic.net/common/?src=http%3A%2F%2Fimage.nmv.naver.net%2Fblog_2022_03_14_2686%2F61330372-a335-11ec-bcec-505dac8c35ff_01.jpg&type=l340_165\n",
      "6 https://search.pstatic.net/common/?src=http%3A%2F%2Fblogfiles.naver.net%2FMjAyMjAzMTdfMjY2%2FMDAxNjQ3NDgxNDMxOTEw.6M6kZzVGpQUET0HIBHDqUwzgjP88VMpryGHvkmc28jQg.rGHrDGzzftHDaja5pKsOiyRflPoTa9CiwLvns1-4wSUg.JPEG.nbsupporter%2F%25B0%25AD%25BE%25C6%25C1%25F6_%25285%2529.jpg&type=a340\n",
      "7 https://search.pstatic.net/common/?src=http%3A%2F%2Fblogfiles.naver.net%2FMjAyMjAzMTVfNDkg%2FMDAxNjQ3MzI3MTQ1MDA2.ZEJ1o_TShqxLL4xo_65Ti_7aBEPKTWdX8fQmhI4X3pgg.Eaaqhqsm7vJqT3i8ChFr4lGXN05ort5Ne-goWsd5coYg.JPEG.ccat456%2F3.jpg&type=a340\n",
      "8 https://search.pstatic.net/common/?src=http%3A%2F%2Fblogfiles.naver.net%2FMjAyMjAzMTRfMjU4%2FMDAxNjQ3MjEyMTQyNzY1.y3iqcl7rVFo5OZZ9e4cQBgfE-Wp1W_-xAQ62lgW4UTsg.Nek-gxiUK4NSbmE0Qqqm0Acy4cExMXAlEWOY56Lrcjwg.JPEG.fill12722%2F4.JPG&type=a340\n",
      "9 https://search.pstatic.net/common/?src=http%3A%2F%2Fblogfiles.naver.net%2FMjAyMjAzMTdfNTAg%2FMDAxNjQ3NDc4Mjc0ODM4.DZlfg2YaDNQZkc_hOeKfJX3cFeA0nBPcplLxOCrAL0wg.O6XJJOm_bwHb0ZPG3iBKNMpfHr5fNgY4-FLafW0MCewg.PNG.vethonors%2F20220317_094927.png&type=a340\n",
      "10 https://search.pstatic.net/common/?src=http%3A%2F%2Fblogfiles.naver.net%2FMjAyMjAzMTVfMjgg%2FMDAxNjQ3MzM5NDA0MDA5.xEAbRVFGg_TEJM-kmmP608hF6QCSv6UxXX-MBKtaBUog.Feam5x1i8ZRruRj0v7DL1ayaChIbL3eePHF5YyH_uPwg.JPEG.lbhcook%2FKakaoTalk_20220308_114007963_06.jpg&type=a340\n",
      "11 https://search.pstatic.net/common/?src=http%3A%2F%2Fblogfiles.naver.net%2FMjAyMjAzMDlfMTQ3%2FMDAxNjQ2ODAwMDE4Njc1.A_esGnyYKUROZ0-DK2vasdAM5QX2zjasQviBqffOUoEg.cjaRhEOYFH2eamxhaEPBSfK-oRhTPZ7cqmyaZ_pNE-Qg.JPEG.bennieupveyseyn%2FDSC04577.JPG&type=a340\n",
      "12 https://search.pstatic.net/common/?src=http%3A%2F%2Fblogfiles.naver.net%2FMjAyMjAxMThfMTA4%2FMDAxNjQyNDk0NjE5MTgy.IVV6VSt1My7P-sKmArQoYaxG3GwRoN4xu14DzihWThYg.4lWM-27Hm6-XEOjABnA3ZYU2hd8Ks7Jk0XGhfW5dalAg.JPEG.sinsadogs%2FKakaoTalk_Photo_2022-01-18-15-44-22-31.jpg&type=a340\n",
      "13 https://search.pstatic.net/common/?src=http%3A%2F%2Fblogfiles.naver.net%2FMjAyMjAzMTZfMTc5%2FMDAxNjQ3NDEzMjIyMzU0.C4nNHStCnMhmReJTeV7Y06cyB-ZqgVRRk9a_Fwdkenkg.u9rapIRdUvTj26VS3lpmjfaRQRdGzT7_6vBUO2xVFJ4g.JPEG.bbang_se%2F15.JPG&type=a340\n",
      "14 https://search.pstatic.net/common/?src=http%3A%2F%2Fshop1.phinf.naver.net%2F20210402_250%2F1617348405601LQkIb_JPEG%2F18484185264510059_1071537496.jpg&type=a340\n",
      "15 data:image/gif;base64,R0lGODlhAQABAIAAAAAAAP///yH5BAEAAAAALAAAAAABAAEAAAIBRAA7\n",
      "16 data:image/gif;base64,R0lGODlhAQABAIAAAAAAAP///yH5BAEAAAAALAAAAAABAAEAAAIBRAA7\n",
      "17 data:image/gif;base64,R0lGODlhAQABAIAAAAAAAP///yH5BAEAAAAALAAAAAABAAEAAAIBRAA7\n",
      "18 data:image/gif;base64,R0lGODlhAQABAIAAAAAAAP///yH5BAEAAAAALAAAAAABAAEAAAIBRAA7\n",
      "19 data:image/gif;base64,R0lGODlhAQABAIAAAAAAAP///yH5BAEAAAAALAAAAAABAAEAAAIBRAA7\n",
      "20 data:image/gif;base64,R0lGODlhAQABAIAAAAAAAP///yH5BAEAAAAALAAAAAABAAEAAAIBRAA7\n",
      "21 data:image/gif;base64,R0lGODlhAQABAIAAAAAAAP///yH5BAEAAAAALAAAAAABAAEAAAIBRAA7\n",
      "22 data:image/gif;base64,R0lGODlhAQABAIAAAAAAAP///yH5BAEAAAAALAAAAAABAAEAAAIBRAA7\n",
      "23 data:image/gif;base64,R0lGODlhAQABAIAAAAAAAP///yH5BAEAAAAALAAAAAABAAEAAAIBRAA7\n",
      "24 data:image/gif;base64,R0lGODlhAQABAIAAAAAAAP///yH5BAEAAAAALAAAAAABAAEAAAIBRAA7\n",
      "25 data:image/gif;base64,R0lGODlhAQABAIAAAAAAAP///yH5BAEAAAAALAAAAAABAAEAAAIBRAA7\n",
      "26 data:image/gif;base64,R0lGODlhAQABAIAAAAAAAP///yH5BAEAAAAALAAAAAABAAEAAAIBRAA7\n",
      "27 data:image/gif;base64,R0lGODlhAQABAIAAAAAAAP///yH5BAEAAAAALAAAAAABAAEAAAIBRAA7\n",
      "28 data:image/gif;base64,R0lGODlhAQABAIAAAAAAAP///yH5BAEAAAAALAAAAAABAAEAAAIBRAA7\n",
      "29 data:image/gif;base64,R0lGODlhAQABAIAAAAAAAP///yH5BAEAAAAALAAAAAABAAEAAAIBRAA7\n",
      "30 data:image/gif;base64,R0lGODlhAQABAIAAAAAAAP///yH5BAEAAAAALAAAAAABAAEAAAIBRAA7\n",
      "31 data:image/gif;base64,R0lGODlhAQABAIAAAAAAAP///yH5BAEAAAAALAAAAAABAAEAAAIBRAA7\n",
      "32 data:image/gif;base64,R0lGODlhAQABAIAAAAAAAP///yH5BAEAAAAALAAAAAABAAEAAAIBRAA7\n",
      "33 data:image/gif;base64,R0lGODlhAQABAIAAAAAAAP///yH5BAEAAAAALAAAAAABAAEAAAIBRAA7\n",
      "34 data:image/gif;base64,R0lGODlhAQABAIAAAAAAAP///yH5BAEAAAAALAAAAAABAAEAAAIBRAA7\n",
      "35 data:image/gif;base64,R0lGODlhAQABAIAAAAAAAP///yH5BAEAAAAALAAAAAABAAEAAAIBRAA7\n",
      "36 data:image/gif;base64,R0lGODlhAQABAIAAAAAAAP///yH5BAEAAAAALAAAAAABAAEAAAIBRAA7\n",
      "37 data:image/gif;base64,R0lGODlhAQABAIAAAAAAAP///yH5BAEAAAAALAAAAAABAAEAAAIBRAA7\n",
      "38 data:image/gif;base64,R0lGODlhAQABAIAAAAAAAP///yH5BAEAAAAALAAAAAABAAEAAAIBRAA7\n",
      "39 data:image/gif;base64,R0lGODlhAQABAIAAAAAAAP///yH5BAEAAAAALAAAAAABAAEAAAIBRAA7\n",
      "40 data:image/gif;base64,R0lGODlhAQABAIAAAAAAAP///yH5BAEAAAAALAAAAAABAAEAAAIBRAA7\n",
      "41 data:image/gif;base64,R0lGODlhAQABAIAAAAAAAP///yH5BAEAAAAALAAAAAABAAEAAAIBRAA7\n",
      "42 data:image/gif;base64,R0lGODlhAQABAIAAAAAAAP///yH5BAEAAAAALAAAAAABAAEAAAIBRAA7\n",
      "43 data:image/gif;base64,R0lGODlhAQABAIAAAAAAAP///yH5BAEAAAAALAAAAAABAAEAAAIBRAA7\n",
      "44 data:image/gif;base64,R0lGODlhAQABAIAAAAAAAP///yH5BAEAAAAALAAAAAABAAEAAAIBRAA7\n",
      "45 data:image/gif;base64,R0lGODlhAQABAIAAAAAAAP///yH5BAEAAAAALAAAAAABAAEAAAIBRAA7\n",
      "46 data:image/gif;base64,R0lGODlhAQABAIAAAAAAAP///yH5BAEAAAAALAAAAAABAAEAAAIBRAA7\n",
      "47 data:image/gif;base64,R0lGODlhAQABAIAAAAAAAP///yH5BAEAAAAALAAAAAABAAEAAAIBRAA7\n",
      "48 data:image/gif;base64,R0lGODlhAQABAIAAAAAAAP///yH5BAEAAAAALAAAAAABAAEAAAIBRAA7\n"
     ]
    }
   ],
   "source": [
    "# 이미지 태그 추출\n",
    "imgs = browser.find_elements(By.CSS_SELECTOR, 'img._image._listImage')\n",
    "\n",
    "for i, img in enumerate(imgs, 1):   # enumerate(대상, 시작값)\n",
    "    # 이미지 다운을 위해선 태그에있는 이미지의 주소가 필요하다.\n",
    "\t\t# Type your answer\n",
    "    img_src = img.get_attribute('src')\n",
    "    print(i, img_src)\n",
    "    # img를 index값의 파일명으로 png파일로 저장\n",
    "    urllib.request.urlretrieve(img_src, f'{keyword}/{i}.png')"
   ]
  },
  {
   "cell_type": "code",
   "execution_count": null,
   "id": "3ab6b84f",
   "metadata": {},
   "outputs": [],
   "source": []
  }
 ],
 "metadata": {
  "kernelspec": {
   "display_name": "Python 3 (ipykernel)",
   "language": "python",
   "name": "python3"
  },
  "language_info": {
   "codemirror_mode": {
    "name": "ipython",
    "version": 3
   },
   "file_extension": ".py",
   "mimetype": "text/x-python",
   "name": "python",
   "nbconvert_exporter": "python",
   "pygments_lexer": "ipython3",
   "version": "3.9.7"
  }
 },
 "nbformat": 4,
 "nbformat_minor": 5
}
