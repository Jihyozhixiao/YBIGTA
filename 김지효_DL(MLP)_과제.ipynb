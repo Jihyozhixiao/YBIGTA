{
  "nbformat": 4,
  "nbformat_minor": 0,
  "metadata": {
    "kernelspec": {
      "display_name": "Python 3",
      "language": "python",
      "name": "python3"
    },
    "language_info": {
      "codemirror_mode": {
        "name": "ipython",
        "version": 3
      },
      "file_extension": ".py",
      "mimetype": "text/x-python",
      "name": "python",
      "nbconvert_exporter": "python",
      "pygments_lexer": "ipython3",
      "version": "3.7.1"
    },
    "colab": {
      "name": "김지효_DL(MLP)_과제",
      "provenance": [],
      "collapsed_sections": [],
      "include_colab_link": true
    },
    "accelerator": "GPU"
  },
  "cells": [
    {
      "cell_type": "markdown",
      "metadata": {
        "id": "view-in-github",
        "colab_type": "text"
      },
      "source": [
        "<a href=\"https://colab.research.google.com/github/Jihyozhixiao/YBIGTA/blob/master/%EA%B9%80%EC%A7%80%ED%9A%A8_DL(MLP)_%EA%B3%BC%EC%A0%9C.ipynb\" target=\"_parent\"><img src=\"https://colab.research.google.com/assets/colab-badge.svg\" alt=\"Open In Colab\"/></a>"
      ]
    },
    {
      "cell_type": "markdown",
      "metadata": {
        "id": "MN_pVd5cU2QQ"
      },
      "source": [
        "# 과제: MNIST 데이터를 나만의 NN model로 95 % 이상의 성능으로 training 시켜보자!\n",
        "\n",
        "\n",
        "## Loading MNIST training data\n",
        "\n",
        "출처: 18기 DS 김승하님"
      ]
    },
    {
      "cell_type": "code",
      "metadata": {
        "id": "hwZNV5MFU2QQ",
        "colab": {
          "base_uri": "https://localhost:8080/"
        },
        "outputId": "a55ee103-71e9-4937-ad45-b8352d1db81e"
      },
      "source": [
        "import tensorflow as tf\n",
        "from tensorflow import keras\n",
        "\n",
        "# import matplotlib\n",
        "import matplotlib.pyplot as plt\n",
        "%matplotlib inline\n",
        "\n",
        "# Loading the data\n",
        "(x_train, y_train), (x_test, y_test) = tf.keras.datasets.mnist.load_data()\n",
        "\n",
        "# Scaling(image data는 min-max scaling 주로 사용)\n",
        "x_train = x_train/255.0\n",
        "x_test = x_test/255.0"
      ],
      "execution_count": null,
      "outputs": [
        {
          "output_type": "stream",
          "name": "stdout",
          "text": [
            "Downloading data from https://storage.googleapis.com/tensorflow/tf-keras-datasets/mnist.npz\n",
            "11493376/11490434 [==============================] - 0s 0us/step\n",
            "11501568/11490434 [==============================] - 0s 0us/step\n"
          ]
        }
      ]
    },
    {
      "cell_type": "markdown",
      "metadata": {
        "id": "RDU8J2xRU2QQ"
      },
      "source": [
        "## Training Data\n",
        "28 * 28 pixel 값을 가진 총 60000개의 이미지 데이터"
      ]
    },
    {
      "cell_type": "code",
      "metadata": {
        "id": "jVvXmjQSU2QQ",
        "colab": {
          "base_uri": "https://localhost:8080/"
        },
        "outputId": "61aedb18-fc4e-4619-b816-42c8c52bbf40"
      },
      "source": [
        "x_train.shape "
      ],
      "execution_count": null,
      "outputs": [
        {
          "output_type": "execute_result",
          "data": {
            "text/plain": [
              "(60000, 28, 28)"
            ]
          },
          "metadata": {},
          "execution_count": 2
        }
      ]
    },
    {
      "cell_type": "markdown",
      "metadata": {
        "id": "272a9wmbuL3L"
      },
      "source": [
        ""
      ]
    },
    {
      "cell_type": "markdown",
      "metadata": {
        "id": "-VTAAYKSU2QQ"
      },
      "source": [
        "Neural network 모델에 맞게 이미지 데이터를 벡터 형태로 데이터를 reshape 합니다.  \n",
        "(Model을 만들 때 *keras.layers.Flatten(input_shape=(28, 28)) 이용해도 됨)"
      ]
    },
    {
      "cell_type": "code",
      "metadata": {
        "id": "dq36yUX8U2QR",
        "colab": {
          "base_uri": "https://localhost:8080/"
        },
        "outputId": "77635569-ed54-4e9a-d4db-4d3953d2981a"
      },
      "source": [
        "x_train, x_test = x_train.reshape((-1, 28*28)), x_test.reshape((-1, 28*28))\n",
        "x_train.shape, x_test.shape"
      ],
      "execution_count": null,
      "outputs": [
        {
          "output_type": "execute_result",
          "data": {
            "text/plain": [
              "((60000, 784), (10000, 784))"
            ]
          },
          "metadata": {},
          "execution_count": 3
        }
      ]
    },
    {
      "cell_type": "code",
      "metadata": {
        "id": "zrQLH9iXU2QR",
        "colab": {
          "base_uri": "https://localhost:8080/",
          "height": 265
        },
        "outputId": "657679d4-fbd8-4430-a48a-d39f8d4dd4fa"
      },
      "source": [
        "# Hint: x_train[0].reshape()\n",
        "plt.imshow(x_train[0].reshape(28,28)).set_cmap('Greys')"
      ],
      "execution_count": null,
      "outputs": [
        {
          "output_type": "display_data",
          "data": {
            "image/png": "[encoded data removed]",
            "text/plain": [
              "<Figure size 432x288 with 1 Axes>"
            ]
          },
          "metadata": {
            "needs_background": "light"
          }
        }
      ]
    },
    {
      "cell_type": "markdown",
      "metadata": {
        "id": "0YZXzr-AU2QR"
      },
      "source": [
        "## Training Labels\n",
        "이미지 데이터가 나타내는 숫자값을 label로 가지고 있고, 0부터 9까지의 값을 나타냄  \n",
        "마찬가지로, 60000개의 label이 존재"
      ]
    },
    {
      "cell_type": "code",
      "metadata": {
        "id": "V-JVvQcJU2QR",
        "colab": {
          "base_uri": "https://localhost:8080/"
        },
        "outputId": "9e1cd802-ce0d-43b8-e855-088732fde6ec"
      },
      "source": [
        "y_train.shape"
      ],
      "execution_count": null,
      "outputs": [
        {
          "output_type": "execute_result",
          "data": {
            "text/plain": [
              "(60000,)"
            ]
          },
          "metadata": {},
          "execution_count": 10
        }
      ]
    },
    {
      "cell_type": "code",
      "metadata": {
        "id": "PgAkJK6yU2QR",
        "colab": {
          "base_uri": "https://localhost:8080/"
        },
        "outputId": "4e2f18f1-d5b3-4198-d81a-f6f1db15de17"
      },
      "source": [
        "# show MNIST label for above data\n",
        "y_train[0]"
      ],
      "execution_count": null,
      "outputs": [
        {
          "output_type": "execute_result",
          "data": {
            "text/plain": [
              "5"
            ]
          },
          "metadata": {},
          "execution_count": 11
        }
      ]
    },
    {
      "cell_type": "markdown",
      "metadata": {
        "id": "qaI3Kv_GU2QR"
      },
      "source": [
        "## 나만의 모델을 tensorflow keras API 를 이용해 만들어 봅시다~"
      ]
    },
    {
      "cell_type": "markdown",
      "metadata": {
        "id": "gSshVnt2U2QS"
      },
      "source": [
        "* parameters for model"
      ]
    },
    {
      "cell_type": "code",
      "metadata": {
        "id": "coUZ53nKU2QS"
      },
      "source": [
        "activation_list = [\"sigmoid\", \"relu\", \"softmax\", \"tanh\"]\n",
        "\n",
        "loss_list = [\"sparse_categorical_crossentropy\",\n",
        "             \"categorical_crossentropy\", \n",
        "             \"binary_crossentropy\"]\n",
        "\n",
        "optimizer_list = [\"sgd\", \"adam\", \"rmsprop\", \"adagrad\"]\n",
        "\n",
        "initializer_list = [tf.keras.initializers.RandomNormal(), \n",
        "                    tf.keras.initializers.RandomUniform(), \n",
        "                    tf.keras.initializers.he_normal(), \n",
        "                    tf.keras.initializers.he_uniform(), \n",
        "                    tf.keras.initializers.GlorotUniform(),\n",
        "                    tf.keras.initializers.GlorotNormal()]\n",
        "\n",
        "# dropout\n",
        "dropout_rate = 0.3\n",
        "model = tf.keras.Sequential([\n",
        "    tf.keras.layers.Dense(256, input_dim=784, activation = \"sigmoid\"),\n",
        "    tf.keras.layers.Dense(2, activation = \"sigmoid\"),\n",
        "    tf.keras.layers.Dropout(dropout_rate)\n",
        "])\n",
        "\n",
        "\n",
        "# regularizer\n",
        "regularizer = tf.keras.regularizers.l1(1e-3)\n",
        "regularizer = tf.keras.regularizers.l2(1e-3)\n",
        "model = tf.keras.Sequential([\n",
        "    tf.keras.layers.Dense(256, input_dim=784, activation=\"sigmoid\",\n",
        "                          activity_regularizer=regularizer)\n",
        "])\n",
        "\n",
        "# weight initialization\n",
        "model = tf.keras.Sequential([\n",
        "    tf.keras.layers.Dense(256, input_dim=784, activation=\"sigmoid\",\n",
        "                          kernel_initializer=initializer_list[0])\n",
        "])"
      ],
      "execution_count": null,
      "outputs": []
    },
    {
      "cell_type": "markdown",
      "metadata": {
        "id": "d-6ZTz4AU2QS"
      },
      "source": [
        "#### My Own Model "
      ]
    },
    {
      "cell_type": "code",
      "metadata": {
        "id": "ziVbGe6sU2QS"
      },
      "source": [
        "#### 자유롭게 Model을 만들고 compile 해봅시다 ####\n",
        "model = tf.keras.Sequential([\n",
        "                             tf.keras.layers.Dense(512, input_dim = 784, kernel_initializer = initializer_list[0], bias_initializer = 'zeros', activation = activation_list[0]),\n",
        "                             tf.keras.layers.Dense(256, activation = activation_list[0], kernel_initializer=initializer_list[0]),\n",
        "                             tf.keras.layers.Dense(64, activation = activation_list[0]),\n",
        "                             tf.keras.layers.Dense(32),\n",
        "                             tf.keras.layers.Dropout(0.3)\n",
        "])\n",
        "model.compile(optimizer=optimizer_list[0], loss=loss_list[0], metrics=['mean_absolute_error'])"
      ],
      "execution_count": null,
      "outputs": []
    },
    {
      "cell_type": "markdown",
      "metadata": {
        "id": "PVhLJHJ9U2QT"
      },
      "source": [
        "내가 만든 모델을 확인해 봅시다."
      ]
    },
    {
      "cell_type": "code",
      "metadata": {
        "id": "GChgw-8sU2QT",
        "colab": {
          "base_uri": "https://localhost:8080/"
        },
        "outputId": "42db7982-234b-490a-9ad7-9f495811567a"
      },
      "source": [
        "model.summary()"
      ],
      "execution_count": null,
      "outputs": [
        {
          "output_type": "stream",
          "name": "stdout",
          "text": [
            "Model: \"sequential_9\"\n",
            "_________________________________________________________________\n",
            " Layer (type)                Output Shape              Param #   \n",
            "=================================================================\n",
            " dense_28 (Dense)            (None, 512)               401920    \n",
            "                                                                 \n",
            " dense_29 (Dense)            (None, 256)               131328    \n",
            "                                                                 \n",
            " dense_30 (Dense)            (None, 64)                16448     \n",
            "                                                                 \n",
            " dense_31 (Dense)            (None, 32)                2080      \n",
            "                                                                 \n",
            "=================================================================\n",
            "Total params: 551,776\n",
            "Trainable params: 551,776\n",
            "Non-trainable params: 0\n",
            "_________________________________________________________________\n"
          ]
        }
      ]
    },
    {
      "cell_type": "markdown",
      "metadata": {
        "id": "f9zWRRHIU2QT"
      },
      "source": [
        "model을 자유롭게 train 해봅시다.  "
      ]
    },
    {
      "cell_type": "code",
      "metadata": {
        "id": "6uygJ19gU2QT",
        "colab": {
          "base_uri": "https://localhost:8080/"
        },
        "outputId": "735b05a2-b2fc-4279-a602-42254fc4f65a"
      },
      "source": [
        "model.fit(x_train, y_train,\n",
        "          batch_size=128,\n",
        "          epochs=100,\n",
        "          validation_split = 0.2,\n",
        "          verbose=1)"
      ],
      "execution_count": null,
      "outputs": [
        {
          "output_type": "stream",
          "name": "stdout",
          "text": [
            "Epoch 1/100\n",
            "375/375 [==============================] - 2s 4ms/step - loss: 12.2377 - mean_absolute_error: 4.5759 - val_loss: 10.1927 - val_mean_absolute_error: 4.5869\n",
            "Epoch 2/100\n",
            "375/375 [==============================] - 1s 3ms/step - loss: 12.2647 - mean_absolute_error: 4.5784 - val_loss: 10.2267 - val_mean_absolute_error: 4.5941\n",
            "Epoch 3/100\n",
            "375/375 [==============================] - 1s 3ms/step - loss: 12.1553 - mean_absolute_error: 4.5878 - val_loss: 10.0869 - val_mean_absolute_error: 4.6176\n",
            "Epoch 4/100\n",
            "375/375 [==============================] - 1s 3ms/step - loss: 12.0463 - mean_absolute_error: 4.6071 - val_loss: 10.0950 - val_mean_absolute_error: 4.6213\n",
            "Epoch 5/100\n",
            "375/375 [==============================] - 1s 3ms/step - loss: 11.9611 - mean_absolute_error: 4.6103 - val_loss: 10.0608 - val_mean_absolute_error: 4.6256\n",
            "Epoch 6/100\n",
            "375/375 [==============================] - 1s 3ms/step - loss: 12.7537 - mean_absolute_error: 4.6663 - val_loss: 9.9751 - val_mean_absolute_error: 4.7724\n",
            "Epoch 7/100\n",
            "375/375 [==============================] - 1s 3ms/step - loss: 11.8894 - mean_absolute_error: 4.8626 - val_loss: 9.9932 - val_mean_absolute_error: 4.7768\n",
            "Epoch 8/100\n",
            "375/375 [==============================] - 1s 3ms/step - loss: 11.8290 - mean_absolute_error: 4.8646 - val_loss: 9.9598 - val_mean_absolute_error: 4.7746\n",
            "Epoch 9/100\n",
            "375/375 [==============================] - 1s 3ms/step - loss: 11.8829 - mean_absolute_error: 4.8661 - val_loss: 9.9691 - val_mean_absolute_error: 4.7774\n",
            "Epoch 10/100\n",
            "375/375 [==============================] - 1s 3ms/step - loss: 11.8374 - mean_absolute_error: 4.8654 - val_loss: 9.9578 - val_mean_absolute_error: 4.7775\n",
            "Epoch 11/100\n",
            "375/375 [==============================] - 1s 3ms/step - loss: 11.8094 - mean_absolute_error: 4.8663 - val_loss: 9.9214 - val_mean_absolute_error: 4.7746\n",
            "Epoch 12/100\n",
            "375/375 [==============================] - 1s 3ms/step - loss: 12.0507 - mean_absolute_error: 4.8715 - val_loss: 11.5007 - val_mean_absolute_error: 4.8120\n",
            "Epoch 13/100\n",
            "375/375 [==============================] - 1s 3ms/step - loss: 12.9955 - mean_absolute_error: 4.8938 - val_loss: 11.4578 - val_mean_absolute_error: 4.8045\n",
            "Epoch 14/100\n",
            "375/375 [==============================] - 1s 3ms/step - loss: 12.9563 - mean_absolute_error: 4.8927 - val_loss: 11.4595 - val_mean_absolute_error: 4.8029\n",
            "Epoch 15/100\n",
            "375/375 [==============================] - 1s 3ms/step - loss: 13.0305 - mean_absolute_error: 4.8741 - val_loss: 11.5180 - val_mean_absolute_error: 4.7734\n",
            "Epoch 16/100\n",
            "375/375 [==============================] - 1s 3ms/step - loss: 13.0595 - mean_absolute_error: 4.8641 - val_loss: 11.5180 - val_mean_absolute_error: 4.7734\n",
            "Epoch 17/100\n",
            "375/375 [==============================] - 1s 4ms/step - loss: 13.0138 - mean_absolute_error: 4.8631 - val_loss: 11.5180 - val_mean_absolute_error: 4.7734\n",
            "Epoch 18/100\n",
            "375/375 [==============================] - 1s 3ms/step - loss: 13.0428 - mean_absolute_error: 4.8641 - val_loss: 11.5180 - val_mean_absolute_error: 4.7734\n",
            "Epoch 19/100\n",
            "375/375 [==============================] - 1s 3ms/step - loss: 13.0978 - mean_absolute_error: 4.8637 - val_loss: 11.5180 - val_mean_absolute_error: 4.7734\n",
            "Epoch 20/100\n",
            "375/375 [==============================] - 1s 3ms/step - loss: 13.0298 - mean_absolute_error: 4.8639 - val_loss: 11.5180 - val_mean_absolute_error: 4.7734\n",
            "Epoch 21/100\n",
            "375/375 [==============================] - 1s 3ms/step - loss: 13.0611 - mean_absolute_error: 4.8644 - val_loss: 11.5180 - val_mean_absolute_error: 4.7734\n",
            "Epoch 22/100\n",
            "375/375 [==============================] - 1s 3ms/step - loss: 13.0498 - mean_absolute_error: 4.8629 - val_loss: 11.5180 - val_mean_absolute_error: 4.7734\n",
            "Epoch 23/100\n",
            "375/375 [==============================] - 1s 3ms/step - loss: 13.0792 - mean_absolute_error: 4.8640 - val_loss: 11.5180 - val_mean_absolute_error: 4.7734\n",
            "Epoch 24/100\n",
            "375/375 [==============================] - 1s 3ms/step - loss: 13.0665 - mean_absolute_error: 4.8642 - val_loss: 11.5180 - val_mean_absolute_error: 4.7734\n",
            "Epoch 25/100\n",
            "375/375 [==============================] - 1s 3ms/step - loss: 13.0549 - mean_absolute_error: 4.8648 - val_loss: 11.5180 - val_mean_absolute_error: 4.7734\n",
            "Epoch 26/100\n",
            "375/375 [==============================] - 1s 3ms/step - loss: 13.0640 - mean_absolute_error: 4.8646 - val_loss: 11.5180 - val_mean_absolute_error: 4.7734\n",
            "Epoch 27/100\n",
            "375/375 [==============================] - 1s 3ms/step - loss: 13.0474 - mean_absolute_error: 4.8657 - val_loss: 11.5180 - val_mean_absolute_error: 4.7734\n",
            "Epoch 28/100\n",
            "375/375 [==============================] - 1s 3ms/step - loss: 13.0432 - mean_absolute_error: 4.8637 - val_loss: 11.5180 - val_mean_absolute_error: 4.7734\n",
            "Epoch 29/100\n",
            "375/375 [==============================] - 1s 3ms/step - loss: 13.0757 - mean_absolute_error: 4.8644 - val_loss: 11.5180 - val_mean_absolute_error: 4.7734\n",
            "Epoch 30/100\n",
            "375/375 [==============================] - 1s 3ms/step - loss: 13.0927 - mean_absolute_error: 4.8639 - val_loss: 11.5180 - val_mean_absolute_error: 4.7734\n",
            "Epoch 31/100\n",
            "375/375 [==============================] - 1s 3ms/step - loss: 13.0931 - mean_absolute_error: 4.8640 - val_loss: 11.5180 - val_mean_absolute_error: 4.7734\n",
            "Epoch 32/100\n",
            "375/375 [==============================] - 1s 3ms/step - loss: 13.1081 - mean_absolute_error: 4.8638 - val_loss: 11.5180 - val_mean_absolute_error: 4.7734\n",
            "Epoch 33/100\n",
            "375/375 [==============================] - 1s 3ms/step - loss: 13.0553 - mean_absolute_error: 4.8637 - val_loss: 11.5180 - val_mean_absolute_error: 4.7734\n",
            "Epoch 34/100\n",
            "375/375 [==============================] - 1s 3ms/step - loss: 13.0730 - mean_absolute_error: 4.8641 - val_loss: 11.5180 - val_mean_absolute_error: 4.7734\n",
            "Epoch 35/100\n",
            "375/375 [==============================] - 1s 3ms/step - loss: 13.0491 - mean_absolute_error: 4.8654 - val_loss: 11.5180 - val_mean_absolute_error: 4.7734\n",
            "Epoch 36/100\n",
            "375/375 [==============================] - 1s 3ms/step - loss: 13.0676 - mean_absolute_error: 4.8641 - val_loss: 11.5180 - val_mean_absolute_error: 4.7734\n",
            "Epoch 37/100\n",
            "375/375 [==============================] - 1s 3ms/step - loss: 13.0716 - mean_absolute_error: 4.8645 - val_loss: 11.5180 - val_mean_absolute_error: 4.7734\n",
            "Epoch 38/100\n",
            "375/375 [==============================] - 1s 3ms/step - loss: 13.0593 - mean_absolute_error: 4.8628 - val_loss: 11.5180 - val_mean_absolute_error: 4.7734\n",
            "Epoch 39/100\n",
            "375/375 [==============================] - 1s 3ms/step - loss: 13.0317 - mean_absolute_error: 4.8643 - val_loss: 11.5180 - val_mean_absolute_error: 4.7734\n",
            "Epoch 40/100\n",
            "375/375 [==============================] - 1s 3ms/step - loss: 13.0667 - mean_absolute_error: 4.8650 - val_loss: 11.5180 - val_mean_absolute_error: 4.7734\n",
            "Epoch 41/100\n",
            "375/375 [==============================] - 1s 3ms/step - loss: 13.0707 - mean_absolute_error: 4.8649 - val_loss: 11.5180 - val_mean_absolute_error: 4.7734\n",
            "Epoch 42/100\n",
            "375/375 [==============================] - 1s 3ms/step - loss: 13.0406 - mean_absolute_error: 4.8639 - val_loss: 11.5180 - val_mean_absolute_error: 4.7734\n",
            "Epoch 43/100\n",
            "375/375 [==============================] - 1s 3ms/step - loss: 13.0598 - mean_absolute_error: 4.8633 - val_loss: 11.5180 - val_mean_absolute_error: 4.7734\n",
            "Epoch 44/100\n",
            "375/375 [==============================] - 1s 3ms/step - loss: 13.0835 - mean_absolute_error: 4.8650 - val_loss: 11.5180 - val_mean_absolute_error: 4.7734\n",
            "Epoch 45/100\n",
            "375/375 [==============================] - 1s 3ms/step - loss: 13.0471 - mean_absolute_error: 4.8637 - val_loss: 11.5180 - val_mean_absolute_error: 4.7734\n",
            "Epoch 46/100\n",
            "375/375 [==============================] - 1s 3ms/step - loss: 13.0588 - mean_absolute_error: 4.8653 - val_loss: 11.5180 - val_mean_absolute_error: 4.7734\n",
            "Epoch 47/100\n",
            "375/375 [==============================] - 1s 3ms/step - loss: 13.0643 - mean_absolute_error: 4.8651 - val_loss: 11.5180 - val_mean_absolute_error: 4.7734\n",
            "Epoch 48/100\n",
            "375/375 [==============================] - 1s 3ms/step - loss: 13.0701 - mean_absolute_error: 4.8647 - val_loss: 11.5180 - val_mean_absolute_error: 4.7734\n",
            "Epoch 49/100\n",
            "375/375 [==============================] - 1s 3ms/step - loss: 13.0487 - mean_absolute_error: 4.8653 - val_loss: 11.5180 - val_mean_absolute_error: 4.7734\n",
            "Epoch 50/100\n",
            "375/375 [==============================] - 1s 3ms/step - loss: 13.0603 - mean_absolute_error: 4.8645 - val_loss: 11.5180 - val_mean_absolute_error: 4.7734\n",
            "Epoch 51/100\n",
            "375/375 [==============================] - 1s 3ms/step - loss: 13.0292 - mean_absolute_error: 4.8651 - val_loss: 11.5180 - val_mean_absolute_error: 4.7734\n",
            "Epoch 52/100\n",
            "375/375 [==============================] - 1s 3ms/step - loss: 13.0583 - mean_absolute_error: 4.8651 - val_loss: 11.5180 - val_mean_absolute_error: 4.7734\n",
            "Epoch 53/100\n",
            "375/375 [==============================] - 1s 3ms/step - loss: 13.0488 - mean_absolute_error: 4.8648 - val_loss: 11.5180 - val_mean_absolute_error: 4.7734\n",
            "Epoch 54/100\n",
            "375/375 [==============================] - 1s 3ms/step - loss: 13.0353 - mean_absolute_error: 4.8634 - val_loss: 11.5180 - val_mean_absolute_error: 4.7734\n",
            "Epoch 55/100\n",
            "375/375 [==============================] - 1s 3ms/step - loss: 13.0454 - mean_absolute_error: 4.8641 - val_loss: 11.5180 - val_mean_absolute_error: 4.7734\n",
            "Epoch 56/100\n",
            "375/375 [==============================] - 1s 3ms/step - loss: 13.0277 - mean_absolute_error: 4.8644 - val_loss: 11.5180 - val_mean_absolute_error: 4.7734\n",
            "Epoch 57/100\n",
            "375/375 [==============================] - 1s 3ms/step - loss: 13.0548 - mean_absolute_error: 4.8649 - val_loss: 11.5180 - val_mean_absolute_error: 4.7734\n",
            "Epoch 58/100\n",
            "375/375 [==============================] - 1s 3ms/step - loss: 13.0624 - mean_absolute_error: 4.8639 - val_loss: 11.5180 - val_mean_absolute_error: 4.7734\n",
            "Epoch 59/100\n",
            "375/375 [==============================] - 1s 3ms/step - loss: 12.9952 - mean_absolute_error: 4.8655 - val_loss: 11.5180 - val_mean_absolute_error: 4.7734\n",
            "Epoch 60/100\n",
            "375/375 [==============================] - 1s 3ms/step - loss: 13.0833 - mean_absolute_error: 4.8630 - val_loss: 11.5180 - val_mean_absolute_error: 4.7734\n",
            "Epoch 61/100\n",
            "375/375 [==============================] - 1s 3ms/step - loss: 13.0295 - mean_absolute_error: 4.8632 - val_loss: 11.5180 - val_mean_absolute_error: 4.7734\n",
            "Epoch 62/100\n",
            "375/375 [==============================] - 1s 3ms/step - loss: 13.0385 - mean_absolute_error: 4.8640 - val_loss: 11.5180 - val_mean_absolute_error: 4.7734\n",
            "Epoch 63/100\n",
            "375/375 [==============================] - 1s 3ms/step - loss: 13.0394 - mean_absolute_error: 4.8659 - val_loss: 11.5180 - val_mean_absolute_error: 4.7734\n",
            "Epoch 64/100\n",
            "375/375 [==============================] - 1s 3ms/step - loss: 13.0606 - mean_absolute_error: 4.8637 - val_loss: 11.5180 - val_mean_absolute_error: 4.7734\n",
            "Epoch 65/100\n",
            "375/375 [==============================] - 1s 3ms/step - loss: 13.0729 - mean_absolute_error: 4.8640 - val_loss: 11.5180 - val_mean_absolute_error: 4.7734\n",
            "Epoch 66/100\n",
            "375/375 [==============================] - 1s 3ms/step - loss: 13.0459 - mean_absolute_error: 4.8649 - val_loss: 11.5180 - val_mean_absolute_error: 4.7734\n",
            "Epoch 67/100\n",
            "375/375 [==============================] - 1s 3ms/step - loss: 13.0551 - mean_absolute_error: 4.8656 - val_loss: 11.5180 - val_mean_absolute_error: 4.7734\n",
            "Epoch 68/100\n",
            "375/375 [==============================] - 1s 3ms/step - loss: 13.0690 - mean_absolute_error: 4.8648 - val_loss: 11.5180 - val_mean_absolute_error: 4.7734\n",
            "Epoch 69/100\n",
            "375/375 [==============================] - 1s 3ms/step - loss: 13.0594 - mean_absolute_error: 4.8649 - val_loss: 11.5180 - val_mean_absolute_error: 4.7734\n",
            "Epoch 70/100\n",
            "375/375 [==============================] - 1s 3ms/step - loss: 13.0652 - mean_absolute_error: 4.8636 - val_loss: 11.5180 - val_mean_absolute_error: 4.7734\n",
            "Epoch 71/100\n",
            "375/375 [==============================] - 1s 3ms/step - loss: 13.0697 - mean_absolute_error: 4.8636 - val_loss: 11.5180 - val_mean_absolute_error: 4.7734\n",
            "Epoch 72/100\n",
            "375/375 [==============================] - 1s 3ms/step - loss: 13.0866 - mean_absolute_error: 4.8647 - val_loss: 11.5180 - val_mean_absolute_error: 4.7734\n",
            "Epoch 73/100\n",
            "375/375 [==============================] - 1s 3ms/step - loss: 13.0829 - mean_absolute_error: 4.8624 - val_loss: 11.5180 - val_mean_absolute_error: 4.7734\n",
            "Epoch 74/100\n",
            "375/375 [==============================] - 1s 3ms/step - loss: 13.0554 - mean_absolute_error: 4.8638 - val_loss: 11.5180 - val_mean_absolute_error: 4.7734\n",
            "Epoch 75/100\n",
            "375/375 [==============================] - 1s 4ms/step - loss: 13.0753 - mean_absolute_error: 4.8645 - val_loss: 11.5180 - val_mean_absolute_error: 4.7734\n",
            "Epoch 76/100\n",
            "375/375 [==============================] - 1s 3ms/step - loss: 13.0549 - mean_absolute_error: 4.8640 - val_loss: 11.5180 - val_mean_absolute_error: 4.7734\n",
            "Epoch 77/100\n",
            "375/375 [==============================] - 1s 3ms/step - loss: 13.0876 - mean_absolute_error: 4.8651 - val_loss: 11.5180 - val_mean_absolute_error: 4.7734\n",
            "Epoch 78/100\n",
            "375/375 [==============================] - 1s 3ms/step - loss: 13.0649 - mean_absolute_error: 4.8638 - val_loss: 11.5180 - val_mean_absolute_error: 4.7734\n",
            "Epoch 79/100\n",
            "375/375 [==============================] - 1s 3ms/step - loss: 13.1019 - mean_absolute_error: 4.8634 - val_loss: 11.5180 - val_mean_absolute_error: 4.7734\n",
            "Epoch 80/100\n",
            "375/375 [==============================] - 1s 3ms/step - loss: 13.0655 - mean_absolute_error: 4.8644 - val_loss: 11.5180 - val_mean_absolute_error: 4.7734\n",
            "Epoch 81/100\n",
            "375/375 [==============================] - 1s 3ms/step - loss: 13.0597 - mean_absolute_error: 4.8653 - val_loss: 11.5180 - val_mean_absolute_error: 4.7734\n",
            "Epoch 82/100\n",
            "375/375 [==============================] - 1s 3ms/step - loss: 13.0810 - mean_absolute_error: 4.8643 - val_loss: 11.5180 - val_mean_absolute_error: 4.7734\n",
            "Epoch 83/100\n",
            "375/375 [==============================] - 1s 3ms/step - loss: 13.0856 - mean_absolute_error: 4.8651 - val_loss: 11.5180 - val_mean_absolute_error: 4.7734\n",
            "Epoch 84/100\n",
            "375/375 [==============================] - 1s 3ms/step - loss: 13.0500 - mean_absolute_error: 4.8643 - val_loss: 11.5180 - val_mean_absolute_error: 4.7734\n",
            "Epoch 85/100\n",
            "375/375 [==============================] - 1s 3ms/step - loss: 13.0747 - mean_absolute_error: 4.8656 - val_loss: 11.5180 - val_mean_absolute_error: 4.7734\n",
            "Epoch 86/100\n",
            "375/375 [==============================] - 1s 3ms/step - loss: 13.0772 - mean_absolute_error: 4.8640 - val_loss: 11.5180 - val_mean_absolute_error: 4.7734\n",
            "Epoch 87/100\n",
            "375/375 [==============================] - 1s 3ms/step - loss: 13.0794 - mean_absolute_error: 4.8644 - val_loss: 11.5180 - val_mean_absolute_error: 4.7734\n",
            "Epoch 88/100\n",
            "375/375 [==============================] - 1s 3ms/step - loss: 13.0537 - mean_absolute_error: 4.8634 - val_loss: 11.5180 - val_mean_absolute_error: 4.7734\n",
            "Epoch 89/100\n",
            "375/375 [==============================] - 1s 3ms/step - loss: 13.0425 - mean_absolute_error: 4.8639 - val_loss: 11.5180 - val_mean_absolute_error: 4.7734\n",
            "Epoch 90/100\n",
            "375/375 [==============================] - 1s 3ms/step - loss: 13.0488 - mean_absolute_error: 4.8633 - val_loss: 11.5180 - val_mean_absolute_error: 4.7734\n",
            "Epoch 91/100\n",
            "375/375 [==============================] - 1s 3ms/step - loss: 13.0889 - mean_absolute_error: 4.8652 - val_loss: 11.5180 - val_mean_absolute_error: 4.7734\n",
            "Epoch 92/100\n",
            "375/375 [==============================] - 1s 3ms/step - loss: 13.0497 - mean_absolute_error: 4.8653 - val_loss: 11.5180 - val_mean_absolute_error: 4.7734\n",
            "Epoch 93/100\n",
            "375/375 [==============================] - 1s 3ms/step - loss: 13.0757 - mean_absolute_error: 4.8645 - val_loss: 11.5180 - val_mean_absolute_error: 4.7734\n",
            "Epoch 94/100\n",
            "375/375 [==============================] - 1s 3ms/step - loss: 13.0693 - mean_absolute_error: 4.8639 - val_loss: 11.5180 - val_mean_absolute_error: 4.7734\n",
            "Epoch 95/100\n",
            "375/375 [==============================] - 1s 3ms/step - loss: 13.0559 - mean_absolute_error: 4.8642 - val_loss: 11.5180 - val_mean_absolute_error: 4.7734\n",
            "Epoch 96/100\n",
            "375/375 [==============================] - 1s 3ms/step - loss: 13.0652 - mean_absolute_error: 4.8643 - val_loss: 11.5180 - val_mean_absolute_error: 4.7734\n",
            "Epoch 97/100\n",
            "375/375 [==============================] - 1s 3ms/step - loss: 13.0488 - mean_absolute_error: 4.8637 - val_loss: 11.5180 - val_mean_absolute_error: 4.7734\n",
            "Epoch 98/100\n",
            "375/375 [==============================] - 1s 3ms/step - loss: 13.0837 - mean_absolute_error: 4.8649 - val_loss: 11.5180 - val_mean_absolute_error: 4.7734\n",
            "Epoch 99/100\n",
            "375/375 [==============================] - 1s 3ms/step - loss: 13.0811 - mean_absolute_error: 4.8653 - val_loss: 11.5180 - val_mean_absolute_error: 4.7734\n",
            "Epoch 100/100\n",
            "375/375 [==============================] - 1s 3ms/step - loss: 13.0616 - mean_absolute_error: 4.8632 - val_loss: 11.5180 - val_mean_absolute_error: 4.7734\n"
          ]
        },
        {
          "output_type": "execute_result",
          "data": {
            "text/plain": [
              "<keras.callbacks.History at 0x7fe393490050>"
            ]
          },
          "metadata": {},
          "execution_count": 60
        }
      ]
    },
    {
      "cell_type": "markdown",
      "metadata": {
        "id": "U8A4zKnEU2QT"
      },
      "source": [
        "95%이상의 성능을 가진 모델을 만들면 완성!"
      ]
    },
    {
      "cell_type": "code",
      "metadata": {
        "id": "9Xz0qGifU2QU",
        "colab": {
          "base_uri": "https://localhost:8080/"
        },
        "outputId": "4a99d756-f651-4162-c638-797db71de290"
      },
      "source": [
        "test_loss, test_acc = model.evaluate(x_test,y_test, verbose=2)\n",
        "\n",
        "print('\\nAccuracy:', test_acc)"
      ],
      "execution_count": null,
      "outputs": [
        {
          "output_type": "stream",
          "name": "stdout",
          "text": [
            "313/313 - 1s - loss: 11.5518 - mean_absolute_error: 4.7505 - 560ms/epoch - 2ms/step\n",
            "\n",
            "Accuracy: 4.7504730224609375\n"
          ]
        }
      ]
    },
    {
      "cell_type": "markdown",
      "metadata": {
        "collapsed": true,
        "id": "EbcuzK_PU2QU"
      },
      "source": [
        "![](https://www.tensorflow.org/versions/master/images/mnist_tensorboard.png)"
      ]
    }
  ]
}